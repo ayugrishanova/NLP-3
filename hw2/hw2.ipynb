{
 "cells": [
  {
   "cell_type": "code",
   "execution_count": 55,
   "id": "9e3cd1b2-cd26-4c28-ba4a-f44bb42c07f0",
   "metadata": {
    "collapsed": true,
    "jupyter": {
     "outputs_hidden": true
    },
    "tags": []
   },
   "outputs": [
    {
     "name": "stdout",
     "output_type": "stream",
     "text": [
      "Collecting conllu\n",
      "  Downloading conllu-4.5.3-py2.py3-none-any.whl (16 kB)\n",
      "Installing collected packages: conllu\n",
      "Successfully installed conllu-4.5.3\n"
     ]
    },
    {
     "name": "stderr",
     "output_type": "stream",
     "text": [
      "\n",
      "[notice] A new release of pip is available: 23.0 -> 23.2.1\n",
      "[notice] To update, run: python.exe -m pip install --upgrade pip\n"
     ]
    }
   ],
   "source": [
    "!pip install conllu"
   ]
  },
  {
   "cell_type": "code",
   "execution_count": 120,
   "id": "f7620fff-79a3-4734-92ad-a772efb830f5",
   "metadata": {
    "collapsed": true,
    "jupyter": {
     "outputs_hidden": true
    },
    "tags": []
   },
   "outputs": [
    {
     "name": "stdout",
     "output_type": "stream",
     "text": [
      "Collecting natasha"
     ]
    },
    {
     "name": "stderr",
     "output_type": "stream",
     "text": [
      "\n",
      "[notice] A new release of pip is available: 23.0 -> 23.2.1\n",
      "[notice] To update, run: python.exe -m pip install --upgrade pip\n"
     ]
    },
    {
     "name": "stdout",
     "output_type": "stream",
     "text": [
      "\n",
      "  Downloading natasha-1.6.0-py3-none-any.whl (34.4 MB)\n",
      "     ---------------------------------------- 34.4/34.4 MB 3.9 MB/s eta 0:00:00\n",
      "Collecting navec>=0.9.0\n",
      "  Downloading navec-0.10.0-py3-none-any.whl (23 kB)\n",
      "Requirement already satisfied: pymorphy2 in c:\\users\\ann\\pycharmprojects\\propg\\venv\\lib\\site-packages (from natasha) (0.9.1)\n",
      "Collecting razdel>=0.5.0\n",
      "  Using cached razdel-0.5.0-py3-none-any.whl (21 kB)\n",
      "Collecting ipymarkup>=0.8.0\n",
      "  Downloading ipymarkup-0.9.0-py3-none-any.whl (14 kB)\n",
      "Collecting slovnet>=0.6.0\n",
      "  Downloading slovnet-0.6.0-py3-none-any.whl (46 kB)\n",
      "     ---------------------------------------- 46.7/46.7 kB ? eta 0:00:00\n",
      "Collecting yargy>=0.16.0\n",
      "  Downloading yargy-0.16.0-py3-none-any.whl (33 kB)\n",
      "Collecting intervaltree>=3\n",
      "  Downloading intervaltree-3.1.0.tar.gz (32 kB)\n",
      "  Preparing metadata (setup.py): started\n",
      "  Preparing metadata (setup.py): finished with status 'done'\n",
      "Requirement already satisfied: numpy in c:\\users\\ann\\pycharmprojects\\propg\\venv\\lib\\site-packages (from navec>=0.9.0->natasha) (1.23.3)\n",
      "Requirement already satisfied: pymorphy2-dicts-ru<3.0,>=2.4 in c:\\users\\ann\\pycharmprojects\\propg\\venv\\lib\\site-packages (from pymorphy2->natasha) (2.4.417127.4579844)\n",
      "Requirement already satisfied: docopt>=0.6 in c:\\users\\ann\\pycharmprojects\\propg\\venv\\lib\\site-packages (from pymorphy2->natasha) (0.6.2)\n",
      "Requirement already satisfied: dawg-python>=0.7.1 in c:\\users\\ann\\pycharmprojects\\propg\\venv\\lib\\site-packages (from pymorphy2->natasha) (0.7.2)\n",
      "Requirement already satisfied: sortedcontainers<3.0,>=2.0 in c:\\users\\ann\\pycharmprojects\\propg\\venv\\lib\\site-packages (from intervaltree>=3->ipymarkup>=0.8.0->natasha) (2.4.0)\n",
      "Building wheels for collected packages: intervaltree\n",
      "  Building wheel for intervaltree (setup.py): started\n",
      "  Building wheel for intervaltree (setup.py): finished with status 'done'\n",
      "  Created wheel for intervaltree: filename=intervaltree-3.1.0-py2.py3-none-any.whl size=26119 sha256=b222ca76cb96f1aaede3e7ad24d0dc8f9dcacbcdadda427782d0bbec9fe0ef36\n",
      "  Stored in directory: c:\\users\\ann\\appdata\\local\\pip\\cache\\wheels\\fa\\80\\8c\\43488a924a046b733b64de3fac99252674c892a4c3801c0a61\n",
      "Successfully built intervaltree\n",
      "Installing collected packages: razdel, navec, intervaltree, yargy, slovnet, ipymarkup, natasha\n",
      "Successfully installed intervaltree-3.1.0 ipymarkup-0.9.0 natasha-1.6.0 navec-0.10.0 razdel-0.5.0 slovnet-0.6.0 yargy-0.16.0\n"
     ]
    }
   ],
   "source": [
    "!pip install natasha"
   ]
  },
  {
   "cell_type": "code",
   "execution_count": 24,
   "id": "c1691297-746a-4d07-907e-af4d273cd7e2",
   "metadata": {
    "collapsed": true,
    "jupyter": {
     "outputs_hidden": true
    },
    "tags": []
   },
   "outputs": [
    {
     "name": "stdout",
     "output_type": "stream",
     "text": [
      "Collecting stanza\n",
      "  Obtaining dependency information for stanza from https://files.pythonhosted.org/packages/88/4f/064015f46172c860b02148db65acd67e4925900b426f66cd0f5729d1c0d1/stanza-1.6.1-py3-none-any.whl.metadata\n",
      "  Downloading stanza-1.6.1-py3-none-any.whl.metadata (13 kB)\n",
      "Collecting emoji (from stanza)\n",
      "  Obtaining dependency information for emoji from https://files.pythonhosted.org/packages/96/c6/0114b2040a96561fd1b44c75df749bbd3c898bf8047fb5ce8d7590d2dee6/emoji-2.8.0-py2.py3-none-any.whl.metadata\n",
      "  Downloading emoji-2.8.0-py2.py3-none-any.whl.metadata (5.3 kB)\n",
      "Requirement already satisfied: numpy in c:\\users\\ann\\pycharmprojects\\propg\\venv\\lib\\site-packages (from stanza) (1.23.3)\n",
      "Requirement already satisfied: protobuf>=3.15.0 in c:\\users\\ann\\pycharmprojects\\propg\\venv\\lib\\site-packages (from stanza) (3.19.6)\n",
      "Requirement already satisfied: requests in c:\\users\\ann\\pycharmprojects\\propg\\venv\\lib\\site-packages (from stanza) (2.28.1)\n",
      "Requirement already satisfied: torch>=1.3.0 in c:\\users\\ann\\pycharmprojects\\propg\\venv\\lib\\site-packages (from stanza) (1.13.1)\n",
      "Requirement already satisfied: tqdm in c:\\users\\ann\\pycharmprojects\\propg\\venv\\lib\\site-packages (from stanza) (4.64.1)\n",
      "Requirement already satisfied: typing-extensions in c:\\users\\ann\\pycharmprojects\\propg\\venv\\lib\\site-packages (from torch>=1.3.0->stanza) (4.4.0)\n",
      "Requirement already satisfied: charset-normalizer<3,>=2 in c:\\users\\ann\\pycharmprojects\\propg\\venv\\lib\\site-packages (from requests->stanza) (2.1.1)\n",
      "Requirement already satisfied: idna<4,>=2.5 in c:\\users\\ann\\pycharmprojects\\propg\\venv\\lib\\site-packages (from requests->stanza) (3.4)\n",
      "Requirement already satisfied: urllib3<1.27,>=1.21.1 in c:\\users\\ann\\pycharmprojects\\propg\\venv\\lib\\site-packages (from requests->stanza) (1.26.12)\n",
      "Requirement already satisfied: certifi>=2017.4.17 in c:\\users\\ann\\pycharmprojects\\propg\\venv\\lib\\site-packages (from requests->stanza) (2022.9.14)\n",
      "Requirement already satisfied: colorama in c:\\users\\ann\\pycharmprojects\\propg\\venv\\lib\\site-packages (from tqdm->stanza) (0.4.6)\n",
      "Downloading stanza-1.6.1-py3-none-any.whl (881 kB)\n",
      "   ---------------------------------------- 881.2/881.2 kB 3.7 MB/s eta 0:00:00\n",
      "Downloading emoji-2.8.0-py2.py3-none-any.whl (358 kB)\n",
      "   ---------------------------------------- 358.9/358.9 kB 3.7 MB/s eta 0:00:00\n",
      "Installing collected packages: emoji, stanza\n",
      "Successfully installed emoji-2.8.0 stanza-1.6.1\n"
     ]
    }
   ],
   "source": [
    "!pip install stanza"
   ]
  },
  {
   "cell_type": "code",
   "execution_count": 664,
   "id": "bd40e258-627e-4db1-b64a-77709aeb35ca",
   "metadata": {},
   "outputs": [],
   "source": [
    "import pandas as pd\n",
    "from natasha import Doc, Segmenter, MorphVocab, NewsEmbedding, NewsMorphTagger\n",
    "from conllu import parse\n",
    "import pymorphy2\n",
    "from string import punctuation\n",
    "import stanza\n",
    "\n",
    "from sklearn.metrics import accuracy_score\n",
    "from sklearn.metrics import confusion_matrix,ConfusionMatrixDisplay\n",
    "\n",
    "import re\n",
    "import nltk\n",
    "from nltk.tokenize import sent_tokenize, word_tokenize\n",
    "from nltk.corpus import stopwords\n",
    "\n",
    "from collections import Counter"
   ]
  },
  {
   "cell_type": "code",
   "execution_count": 425,
   "id": "ac7b5e7b-47b4-42ed-bb6d-2f9409db5ff0",
   "metadata": {},
   "outputs": [],
   "source": [
    "!set \"KERAS_BACKEND=tensorflow\""
   ]
  },
  {
   "cell_type": "code",
   "execution_count": 781,
   "id": "3b4a8af3-c684-4ba0-9f66-ffbb8b29cd08",
   "metadata": {},
   "outputs": [
    {
     "name": "stderr",
     "output_type": "stream",
     "text": [
      "[nltk_data] Downloading package stopwords to\n",
      "[nltk_data]     C:\\Users\\Ann\\AppData\\Roaming\\nltk_data...\n",
      "[nltk_data]   Package stopwords is already up-to-date!\n",
      "[nltk_data] Downloading package punkt to\n",
      "[nltk_data]     C:\\Users\\Ann\\AppData\\Roaming\\nltk_data...\n",
      "[nltk_data]   Package punkt is already up-to-date!\n"
     ]
    },
    {
     "data": {
      "text/plain": [
       "True"
      ]
     },
     "execution_count": 781,
     "metadata": {},
     "output_type": "execute_result"
    }
   ],
   "source": [
    "nltk.download('stopwords')\n",
    "nltk.download('punkt')"
   ]
  },
  {
   "cell_type": "markdown",
   "id": "d18775e6-05ff-4a44-bda9-d0b92b3386c1",
   "metadata": {},
   "source": [
    "# (1 балл) Создание, разметка корпуса и объяснение того, почему этот текст подходит для оценки (какие моменты вы тут считаете трудными для автоматического посттеггинга и почему, в этом вам может помочь второй ридинг). Не забывайте, что разные теггеры могут использовать разные тегсеты: напишите комментарий о том, какой тегсет вы берёте для разметки и почему."
   ]
  },
  {
   "cell_type": "markdown",
   "id": "23b0f573-c906-428b-afdd-eaf45aafc2a2",
   "metadata": {},
   "source": [
    "Для задания были отобраны предложения со следующими моментами, потенциально трудными для авт.посттеггинга:\n",
    "- регулярно образованные авторские окказионализмы (*френдесса*, *наркобаронесса*, *реал*, *ивангардизм*, *семинарения*)\n",
    "- формы, имеющие омонимы в другой части речи (*голубей*)\n",
    "- субствантивированные прилагательные (*больной*, *горячее*)\n",
    "- местоим.союз vs местоимение vs частица (*что*)\n",
    "- предлог vs деепричастие (*благодаря*)\n",
    "- кратк. прил vs наречие (*прозрачно*)"
   ]
  },
  {
   "cell_type": "code",
   "execution_count": 90,
   "id": "0b2909f3-02d1-42d5-81a6-092573cbbbde",
   "metadata": {},
   "outputs": [
    {
     "data": {
      "text/html": [
       "<div>\n",
       "<style scoped>\n",
       "    .dataframe tbody tr th:only-of-type {\n",
       "        vertical-align: middle;\n",
       "    }\n",
       "\n",
       "    .dataframe tbody tr th {\n",
       "        vertical-align: top;\n",
       "    }\n",
       "\n",
       "    .dataframe thead th {\n",
       "        text-align: right;\n",
       "    }\n",
       "</style>\n",
       "<table border=\"1\" class=\"dataframe\">\n",
       "  <thead>\n",
       "    <tr style=\"text-align: right;\">\n",
       "      <th></th>\n",
       "      <th>text</th>\n",
       "      <th>link</th>\n",
       "    </tr>\n",
       "  </thead>\n",
       "  <tbody>\n",
       "    <tr>\n",
       "      <th>0</th>\n",
       "      <td>В прошлом году мы открыли под патронажем Прави...</td>\n",
       "      <td>[Здравоохранение: реалии дня. Отдадим долги и ...</td>\n",
       "    </tr>\n",
       "    <tr>\n",
       "      <th>1</th>\n",
       "      <td>И каждую ночь — больные сны, все время зима, и...</td>\n",
       "      <td>[Андрей Волос. Недвижимость (2000) // «Новый М...</td>\n",
       "    </tr>\n",
       "    <tr>\n",
       "      <th>2</th>\n",
       "      <td>Красиво сервированное горячее считается настоя...</td>\n",
       "      <td>[К нашему любимому празднику: все угощенье -- ...</td>\n",
       "    </tr>\n",
       "    <tr>\n",
       "      <th>3</th>\n",
       "      <td>Бежал он быстро и впопыхах схватил рефлектор з...</td>\n",
       "      <td>[Форум: Похороните меня за плинтусом. Фильм (2...</td>\n",
       "    </tr>\n",
       "    <tr>\n",
       "      <th>4</th>\n",
       "      <td>Если кто успел заметить, пропал я чуток из жж....</td>\n",
       "      <td>[Запись LiveJournal (2004)]</td>\n",
       "    </tr>\n",
       "    <tr>\n",
       "      <th>5</th>\n",
       "      <td>Она выбирала одну, самую молодую, у которой хв...</td>\n",
       "      <td>[Р. И. Фраерман. Дикая собака Динго, или Повес...</td>\n",
       "    </tr>\n",
       "    <tr>\n",
       "      <th>6</th>\n",
       "      <td>Когда в детстве мы пускали голубей, сделанных ...</td>\n",
       "      <td>[В. Николаев. Бумажный тигр совсем как настоящ...</td>\n",
       "    </tr>\n",
       "    <tr>\n",
       "      <th>7</th>\n",
       "      <td>Только сегодня добрался до возможности ответит...</td>\n",
       "      <td>[Письмо мужчины к женщине (2003)]</td>\n",
       "    </tr>\n",
       "    <tr>\n",
       "      <th>8</th>\n",
       "      <td>Мать и Марфуша — в роли наркобаронесс, наша да...</td>\n",
       "      <td>[Вера Белоусова. Второй выстрел (2000)]</td>\n",
       "    </tr>\n",
       "    <tr>\n",
       "      <th>9</th>\n",
       "      <td>А в сети шумно.  Одна френдесса предупредила: ...</td>\n",
       "      <td>[Анатолий Салуцкий. Немой набат // «Москва», 2...</td>\n",
       "    </tr>\n",
       "    <tr>\n",
       "      <th>10</th>\n",
       "      <td>Что за херь он начал творить со вселенной само...</td>\n",
       "      <td>[Форум: Блэйд (трилогия) Blade (2008-2010)]</td>\n",
       "    </tr>\n",
       "    <tr>\n",
       "      <th>11</th>\n",
       "      <td>Очень приятно, что портал создал думающий моло...</td>\n",
       "      <td>[Форум: Мужчина в школе (Взгляд на Мужчину в ш...</td>\n",
       "    </tr>\n",
       "    <tr>\n",
       "      <th>12</th>\n",
       "      <td>Цените момент, пока еще учитесь, нету своей се...</td>\n",
       "      <td>[Форум: Универ (институт) VS школа. Плюсы и ми...</td>\n",
       "    </tr>\n",
       "    <tr>\n",
       "      <th>13</th>\n",
       "      <td>Благодаря таким стоматологам, я остался без ед...</td>\n",
       "      <td>[Форум: 12 часов в день? Не могу согласиться с...</td>\n",
       "    </tr>\n",
       "    <tr>\n",
       "      <th>14</th>\n",
       "      <td>Я остановился, благодаря себя за то, что краск...</td>\n",
       "      <td>[А. В. Цветков. После прочтения уничтожить (20...</td>\n",
       "    </tr>\n",
       "    <tr>\n",
       "      <th>15</th>\n",
       "      <td>Пародийный текст Достоевского прозрачно включа...</td>\n",
       "      <td>[Игорь Золотусский. «Записки сумасшедшего» и «...</td>\n",
       "    </tr>\n",
       "    <tr>\n",
       "      <th>16</th>\n",
       "      <td>В путеводителе по музею ему даётся следующая х...</td>\n",
       "      <td>[Людмила Бузышина. Хрустальные черепа // «Зерк...</td>\n",
       "    </tr>\n",
       "    <tr>\n",
       "      <th>17</th>\n",
       "      <td>Вечернее солнце ласкало глаза прозрачно-желтым...</td>\n",
       "      <td>[А. А. Уткин. Крепость сомнения (2010)]</td>\n",
       "    </tr>\n",
       "    <tr>\n",
       "      <th>18</th>\n",
       "      <td>Его тело изогнуто дугой, снабжено двумя огромн...</td>\n",
       "      <td>[Л. Буторина. Сложная жизнь полифема // «Наука...</td>\n",
       "    </tr>\n",
       "  </tbody>\n",
       "</table>\n",
       "</div>"
      ],
      "text/plain": [
       "                                                 text  \\\n",
       "0   В прошлом году мы открыли под патронажем Прави...   \n",
       "1   И каждую ночь — больные сны, все время зима, и...   \n",
       "2   Красиво сервированное горячее считается настоя...   \n",
       "3   Бежал он быстро и впопыхах схватил рефлектор з...   \n",
       "4   Если кто успел заметить, пропал я чуток из жж....   \n",
       "5   Она выбирала одну, самую молодую, у которой хв...   \n",
       "6   Когда в детстве мы пускали голубей, сделанных ...   \n",
       "7   Только сегодня добрался до возможности ответит...   \n",
       "8   Мать и Марфуша — в роли наркобаронесс, наша да...   \n",
       "9   А в сети шумно.  Одна френдесса предупредила: ...   \n",
       "10  Что за херь он начал творить со вселенной само...   \n",
       "11  Очень приятно, что портал создал думающий моло...   \n",
       "12  Цените момент, пока еще учитесь, нету своей се...   \n",
       "13  Благодаря таким стоматологам, я остался без ед...   \n",
       "14  Я остановился, благодаря себя за то, что краск...   \n",
       "15  Пародийный текст Достоевского прозрачно включа...   \n",
       "16  В путеводителе по музею ему даётся следующая х...   \n",
       "17  Вечернее солнце ласкало глаза прозрачно-желтым...   \n",
       "18  Его тело изогнуто дугой, снабжено двумя огромн...   \n",
       "\n",
       "                                                 link  \n",
       "0   [Здравоохранение: реалии дня. Отдадим долги и ...  \n",
       "1   [Андрей Волос. Недвижимость (2000) // «Новый М...  \n",
       "2   [К нашему любимому празднику: все угощенье -- ...  \n",
       "3   [Форум: Похороните меня за плинтусом. Фильм (2...  \n",
       "4                         [Запись LiveJournal (2004)]  \n",
       "5   [Р. И. Фраерман. Дикая собака Динго, или Повес...  \n",
       "6   [В. Николаев. Бумажный тигр совсем как настоящ...  \n",
       "7                   [Письмо мужчины к женщине (2003)]  \n",
       "8             [Вера Белоусова. Второй выстрел (2000)]  \n",
       "9   [Анатолий Салуцкий. Немой набат // «Москва», 2...  \n",
       "10        [Форум: Блэйд (трилогия) Blade (2008-2010)]  \n",
       "11  [Форум: Мужчина в школе (Взгляд на Мужчину в ш...  \n",
       "12  [Форум: Универ (институт) VS школа. Плюсы и ми...  \n",
       "13  [Форум: 12 часов в день? Не могу согласиться с...  \n",
       "14  [А. В. Цветков. После прочтения уничтожить (20...  \n",
       "15  [Игорь Золотусский. «Записки сумасшедшего» и «...  \n",
       "16  [Людмила Бузышина. Хрустальные черепа // «Зерк...  \n",
       "17            [А. А. Уткин. Крепость сомнения (2010)]  \n",
       "18  [Л. Буторина. Сложная жизнь полифема // «Наука...  "
      ]
     },
     "execution_count": 90,
     "metadata": {},
     "output_type": "execute_result"
    }
   ],
   "source": [
    "text = pd.read_csv('text.txt',sep='\\t', names=['text','link'])\n",
    "text"
   ]
  },
  {
   "cell_type": "code",
   "execution_count": 91,
   "id": "9f21fb04-da87-4823-afcd-0ba990f4e2fb",
   "metadata": {},
   "outputs": [
    {
     "data": {
      "text/plain": [
       "'В прошлом году мы открыли под патронажем Правительства кардиологическое санаторное отделение в \"Сосновом бору \" для больных, перенесших инфаркт миокарда.'"
      ]
     },
     "execution_count": 91,
     "metadata": {},
     "output_type": "execute_result"
    }
   ],
   "source": [
    "text.text.iloc[0]"
   ]
  },
  {
   "cell_type": "markdown",
   "id": "f3104a4e-442a-4db1-9644-41614a60cf77",
   "metadata": {},
   "source": [
    "Будем размечать корпус в упрощенном формате CoNLL-U. Токенизируем с помощью natasha"
   ]
  },
  {
   "cell_type": "code",
   "execution_count": 63,
   "id": "18dbdd05-6d4f-4d07-acb1-c6bc176b8c46",
   "metadata": {},
   "outputs": [],
   "source": [
    "segmenter = Segmenter()\n",
    "emb = NewsEmbedding()"
   ]
  },
  {
   "cell_type": "code",
   "execution_count": 92,
   "id": "6ab8a299-fbaf-4c6b-a312-570444d6b237",
   "metadata": {},
   "outputs": [],
   "source": [
    "doc = Doc('. '.join(text.text.to_list()))\n",
    "doc.segment(segmenter)"
   ]
  },
  {
   "cell_type": "code",
   "execution_count": 93,
   "id": "8fb42e03-8dd1-4093-9c91-1bc693bbd367",
   "metadata": {},
   "outputs": [
    {
     "data": {
      "text/plain": [
       "'В прошлом году мы открыли под патронажем Правительства кардиологическое санаторное отделение в \"Сосновом бору \" для больных, перенесших инфаркт миокарда..'"
      ]
     },
     "execution_count": 93,
     "metadata": {},
     "output_type": "execute_result"
    }
   ],
   "source": [
    "doc.sents[0].text"
   ]
  },
  {
   "cell_type": "markdown",
   "id": "016e10cb-7286-4c56-8048-b75844fe49d8",
   "metadata": {},
   "source": [
    "Подготовка файла для ручной разметки:"
   ]
  },
  {
   "cell_type": "code",
   "execution_count": 94,
   "id": "eaaa5870-d232-477e-882a-0d9e8ade4438",
   "metadata": {},
   "outputs": [],
   "source": [
    "with open('tagged.txt','w',encoding='utf-8') as f:\n",
    "    ct_sent = 1\n",
    "    ct = 1\n",
    "    for sentence in doc.sents:\n",
    "        print(f'# sent_id = {ct_sent}',file=f,end='\\n')\n",
    "        ct_sent += 1\n",
    "        print(f'# text = {sentence.text}',file=f,end='\\n')\n",
    "        for word in sentence.tokens:\n",
    "            print(f'{ct}\\t{word.text}\\t\\t\\t',file=f,end='\\n')\n",
    "            ct += 1\n",
    "        ct = 1\n",
    "        print('\\n',file=f,end='')"
   ]
  },
  {
   "cell_type": "markdown",
   "id": "323daaa3-1e0f-4256-85c2-401d5b56eabc",
   "metadata": {},
   "source": [
    "## Сравнение тегсетов у разных теггеров"
   ]
  },
  {
   "cell_type": "markdown",
   "id": "7a1ea53e-c7e9-4464-babe-e8fad8365f3a",
   "metadata": {},
   "source": [
    "Я решила в работе использовать теггеры pymorphy, natasha и stanza."
   ]
  },
  {
   "cell_type": "markdown",
   "id": "cf5c609d-89d5-4514-a980-68bde012cd60",
   "metadata": {},
   "source": [
    "|часть речи| pymorphy (тэги OpenCorpora)| natasha / stanza (Universal Dependencies)| расширенный Universal Dependencies\n",
    "|----------|----------|----------|----------|\n",
    "| сущ.    | NOUN   |NOUN | NN   |\n",
    "| сущ. (собственнное)   | ?   | ? | NNP   |\n",
    "| прил. (полное)    | ADJF   |ADJ| JJL   |\n",
    "| прил. (краткое)    | ADJS   |ADJ| JJH   |\n",
    "| прил. (сравнительное)    | COMP   |ADJ| JJR   |\n",
    "| прил. (превосх.степень)    | ?   | ADJ|JJS  |\n",
    "| глагол (финитн.)    | VERB   |VERB| VBC   |\n",
    "| инфинитив    | INFN   |VERB| VB   |\n",
    "| прич. (полное)    | PRTF   |ADJ| VBNL   |\n",
    "| прич. (краткое)    | PRTS   |ADJ| VBNH   |\n",
    "| дееприч.   | GRND   | ADV|VBG   |\n",
    "| числ. (количественное)   | NUMR   | NUM|CD   |\n",
    "| числ. (порядковое)   | ?   |NUM| ORD   |\n",
    "| наречие  | ADVB   | ADV|RB   |\n",
    "| наречие (сравнительное) | ?   |ADV| RBR   |\n",
    "| наречие (превосх.степень) | ?   |ADV| RBS   |\n",
    "| мест. (сущ.)    | NPRO   | PRON |PRP   |\n",
    "| мест. (посесс.)    | ?   | DET |PRP$   |\n",
    "| предикатив    | PRED   |ADV| PRED  |\n",
    "| предлог    | PREP   |ADP| IN   |\n",
    "| союз    | CONJ   |CCONJ| CC   |\n",
    "| частица    | PRCL   | PART|RP   |\n",
    "| междометие    | INTJ   |INTJ| UH   |\n",
    "| самостоят.аффиксы    | ?  |?| AFX  |\n",
    "| детерминатор    | ?  |DET| DT  |\n",
    "| слово на др.языке    | ?  |?| FW  |\n",
    "| отрицательная частица    | ?  |PART| NEG  |\n",
    "| союз. (относ.)   | ?  |ADJ| WDT  |\n",
    "| мест. (относ.)   | ?  |PRON| WP  |\n",
    "| нар. (относ.)    | ?  |ADV| WRB  |"
   ]
  },
  {
   "cell_type": "markdown",
   "id": "90717b22-3d0a-4d01-bc2e-488f6c7494ed",
   "metadata": {},
   "source": [
    "Я возьму за основу тегсет pymorphy, добавим туда полезные тэги X (неизвестный токен) и PUNCT. Для моего корпуса расширенный UD будет избыточным, так как все примеры с омонимией в нем между совершенно разными классами. Разметка будет иметь вид упрощенной CONLLU разметки"
   ]
  },
  {
   "cell_type": "code",
   "execution_count": 389,
   "id": "9b3c54a6-39f6-491e-97ca-3dff65e8402d",
   "metadata": {},
   "outputs": [
    {
     "data": {
      "text/plain": [
       "{'id': 1, 'form': 'В', 'lemma': '', 'upos': '', 'xpos': 'PREP'}"
      ]
     },
     "execution_count": 389,
     "metadata": {},
     "output_type": "execute_result"
    }
   ],
   "source": [
    "with open('tagged-Copy2.txt',encoding='utf-8') as f:\n",
    "    gold_stand = f.read()\n",
    "parse(gold_stand)[0][0]"
   ]
  },
  {
   "cell_type": "markdown",
   "id": "e031b3ad-693d-493e-b8f2-6549ab111e6a",
   "metadata": {},
   "source": [
    "Из-за упрощенной разметки я не размечала лемму и upos"
   ]
  },
  {
   "cell_type": "markdown",
   "id": "a6c44470-38ac-46cb-a490-329a60403ede",
   "metadata": {},
   "source": [
    "# (3 балла) Потом вам будет нужно взять три POS теггера для русского языка (udpipe, stanza, natasha, pymorphy, mystem, spacy, deeppavlov) и «прогнать» текст через каждый из них."
   ]
  },
  {
   "cell_type": "code",
   "execution_count": 390,
   "id": "f169d34a-de9e-4476-9622-b767f4c09179",
   "metadata": {},
   "outputs": [],
   "source": [
    "dict_words = {}\n",
    "list_words = []\n",
    "for sentence in parse(gold_stand):\n",
    "    for word in sentence:\n",
    "        dict_words = {'word': str(word).lower(),\n",
    "                        'gold_stand': word['xpos'],\n",
    "                        'pymorphy': '',\n",
    "                        'natasha': '',\n",
    "                        'stanza': ''}\n",
    "        list_words.append(dict_words)"
   ]
  },
  {
   "cell_type": "code",
   "execution_count": 391,
   "id": "c3431f95-4d30-4f4f-a265-e65b1d36fea8",
   "metadata": {},
   "outputs": [
    {
     "data": {
      "text/plain": [
       "{'word': 'в',\n",
       " 'gold_stand': 'PREP',\n",
       " 'pymorphy': '',\n",
       " 'natasha': '',\n",
       " 'stanza': ''}"
      ]
     },
     "execution_count": 391,
     "metadata": {},
     "output_type": "execute_result"
    }
   ],
   "source": [
    "list_words[0]"
   ]
  },
  {
   "cell_type": "markdown",
   "id": "1029b486-8172-431d-9b77-4ad085c4c804",
   "metadata": {},
   "source": [
    "## pymorphy"
   ]
  },
  {
   "cell_type": "code",
   "execution_count": 100,
   "id": "4c7102da-e29b-4b95-abaf-85d88fd9b5ea",
   "metadata": {},
   "outputs": [],
   "source": [
    "morph = pymorphy2.MorphAnalyzer()"
   ]
  },
  {
   "cell_type": "markdown",
   "id": "bd75bfec-a75c-4b8a-be44-48dfb0d69169",
   "metadata": {},
   "source": [
    "Pymorphy пунктуацию сам не размечает"
   ]
  },
  {
   "cell_type": "code",
   "execution_count": 392,
   "id": "c8ea11be-8892-4c36-9189-c265af816e85",
   "metadata": {
    "tags": []
   },
   "outputs": [],
   "source": [
    "for tags in list_words:\n",
    "    tag = morph.parse(tags['word'])[0].tag.POS\n",
    "    if tag != None:\n",
    "        tags['pymorphy'] = tag\n",
    "    else:\n",
    "        tags['pymorphy'] = 'PUNCT'"
   ]
  },
  {
   "cell_type": "code",
   "execution_count": 203,
   "id": "5572ca13-f708-43c6-a356-0d115ee7a706",
   "metadata": {},
   "outputs": [
    {
     "data": {
      "text/plain": [
       "{'word': '\"',\n",
       " 'gold_stand': 'PUNCT',\n",
       " 'pymorphy': 'PUNCT',\n",
       " 'natasha': '',\n",
       " 'stanza': ''}"
      ]
     },
     "execution_count": 203,
     "metadata": {},
     "output_type": "execute_result"
    }
   ],
   "source": [
    "list_words[12]"
   ]
  },
  {
   "cell_type": "code",
   "execution_count": 393,
   "id": "237467f8-685c-4014-b0a3-dbeec91f59db",
   "metadata": {},
   "outputs": [
    {
     "name": "stdout",
     "output_type": "stream",
     "text": [
      "{'word': 'т', 'gold_stand': 'X', 'pymorphy': 'ADVB', 'natasha': '', 'stanza': ''}\n",
      "{'word': 'д', 'gold_stand': 'X', 'pymorphy': 'ADVB', 'natasha': '', 'stanza': ''}\n",
      "{'word': 'т', 'gold_stand': 'X', 'pymorphy': 'ADVB', 'natasha': '', 'stanza': ''}\n",
      "{'word': 'п', 'gold_stand': 'X', 'pymorphy': 'NOUN', 'natasha': '', 'stanza': ''}\n"
     ]
    }
   ],
   "source": [
    "for word in list_words:\n",
    "    if word['gold_stand'] == 'X':\n",
    "        print(word)"
   ]
  },
  {
   "cell_type": "markdown",
   "id": "6bc45200-58c8-4dca-b41a-df9c8a86b1f7",
   "metadata": {},
   "source": [
    "pymorphy странно разметил странно токенизированные т.д. и т.п."
   ]
  },
  {
   "cell_type": "markdown",
   "id": "b58fb78e-ee89-4061-b57a-cc41a0a5b4f6",
   "metadata": {},
   "source": [
    "## natasha"
   ]
  },
  {
   "cell_type": "code",
   "execution_count": 123,
   "id": "fd2e60cb-d05b-4453-9952-7b193c312a68",
   "metadata": {},
   "outputs": [],
   "source": [
    "segmenter = Segmenter()\n",
    "morph_vocab = MorphVocab()"
   ]
  },
  {
   "cell_type": "code",
   "execution_count": 394,
   "id": "4fcb9dc5-2b55-4415-aa6b-30474d3ddd59",
   "metadata": {},
   "outputs": [],
   "source": [
    "emb = NewsEmbedding()\n",
    "morph_tagger = NewsMorphTagger(emb)"
   ]
  },
  {
   "cell_type": "code",
   "execution_count": 395,
   "id": "dbc2d1b5-96ff-4b82-9553-ff9ada2bd1e3",
   "metadata": {},
   "outputs": [],
   "source": [
    "doc = Doc('. '.join(text.text.to_list()))\n",
    "doc.segment(segmenter)\n",
    "doc.tag_morph(morph_tagger)"
   ]
  },
  {
   "cell_type": "code",
   "execution_count": 396,
   "id": "d191f8d6-dcd2-4f20-921c-40aebd4f9701",
   "metadata": {
    "tags": []
   },
   "outputs": [
    {
     "data": {
      "text/plain": [
       "[DocToken(start=2154, stop=2157, text='Оно', pos='PRON', feats=<Nom,Neut,Sing,3>),\n",
       " DocToken(start=2158, stop=2167, text='прозрачно', pos='ADJ', feats=<Pos,Neut,Sing,Short>),\n",
       " DocToken(start=2168, stop=2169, text='и', pos='PART'),\n",
       " DocToken(start=2170, stop=2180, text='необычайно', pos='ADV', feats=<Pos>),\n",
       " DocToken(start=2181, stop=2188, text='красиво', pos='ADV', feats=<Pos>),\n",
       " DocToken(start=2188, stop=2189, text='.', pos='PUNCT')]"
      ]
     },
     "execution_count": 396,
     "metadata": {},
     "output_type": "execute_result"
    }
   ],
   "source": [
    "doc.sents[25].tokens"
   ]
  },
  {
   "cell_type": "code",
   "execution_count": 397,
   "id": "37763ea8-9f66-4a48-80af-0cb40cf56488",
   "metadata": {},
   "outputs": [],
   "source": [
    "ct = 0\n",
    "for sentence in doc.sents:\n",
    "    for word in sentence.tokens:\n",
    "        list_words[ct]['natasha'] = [word.pos, word.feats]\n",
    "        ct += 1"
   ]
  },
  {
   "cell_type": "code",
   "execution_count": 222,
   "id": "73296051-6a2a-4c49-81fa-09a32a7723f7",
   "metadata": {},
   "outputs": [
    {
     "data": {
      "text/plain": [
       "{'word': 'правительства',\n",
       " 'gold_stand': 'NOUN',\n",
       " 'pymorphy': 'NOUN',\n",
       " 'natasha': ['PROPN',\n",
       "  {'Animacy': 'Inan', 'Case': 'Gen', 'Gender': 'Neut', 'Number': 'Sing'}],\n",
       " 'stanza': 'NOUN'}"
      ]
     },
     "execution_count": 222,
     "metadata": {},
     "output_type": "execute_result"
    }
   ],
   "source": [
    "list_words[7]"
   ]
  },
  {
   "cell_type": "markdown",
   "id": "ff8d84a9-e8ff-4774-9ced-721803c11348",
   "metadata": {},
   "source": [
    "## stanza"
   ]
  },
  {
   "cell_type": "code",
   "execution_count": 130,
   "id": "47fb98ed-766b-45b9-a14b-ae3028d2b79b",
   "metadata": {},
   "outputs": [
    {
     "name": "stderr",
     "output_type": "stream",
     "text": [
      "2023-10-07 16:13:52 INFO: Checking for updates to resources.json in case models have been updated.  Note: this behavior can be turned off with download_method=None or download_method=DownloadMethod.REUSE_RESOURCES\n",
      "Downloading https://raw.githubusercontent.com/stanfordnlp/stanza-resources/main/resources_1.6.0.json: 367kB [00:00, 12.2MB/s]                                                          \n",
      "2023-10-07 16:13:53 INFO: Loading these models for language: ru (Russian):\n",
      "================================\n",
      "| Processor | Package          |\n",
      "--------------------------------\n",
      "| tokenize  | syntagrus        |\n",
      "| pos       | syntagrus_charlm |\n",
      "================================\n",
      "\n",
      "2023-10-07 16:13:53 INFO: Using device: cpu\n",
      "2023-10-07 16:13:53 INFO: Loading: tokenize\n",
      "2023-10-07 16:13:53 INFO: Loading: pos\n",
      "2023-10-07 16:13:53 INFO: Done loading processors!\n"
     ]
    }
   ],
   "source": [
    "nlp = stanza.Pipeline(lang='ru', processors='tokenize,pos')"
   ]
  },
  {
   "cell_type": "code",
   "execution_count": 398,
   "id": "9fca4dc0-b206-4185-bbe8-c07c71ecf5a6",
   "metadata": {
    "tags": []
   },
   "outputs": [],
   "source": [
    "stanza_result = nlp('. '.join(text.text.to_list()))"
   ]
  },
  {
   "cell_type": "code",
   "execution_count": 399,
   "id": "56713843-c4cb-4daa-ae9f-155b6797c3ad",
   "metadata": {},
   "outputs": [
    {
     "data": {
      "text/plain": [
       "(397, 416)"
      ]
     },
     "execution_count": 399,
     "metadata": {},
     "output_type": "execute_result"
    }
   ],
   "source": [
    "ct = 0\n",
    "for sentence in stanza_result.sentences:\n",
    "    for word in sentence.words:\n",
    "        ct += 1\n",
    "list_words.__len__(), ct"
   ]
  },
  {
   "cell_type": "markdown",
   "id": "e5dce3aa-89c4-4843-849c-55e2bf1cf29b",
   "metadata": {},
   "source": [
    "Видимо, токенизатор у stanza токенизировал текст не так, как natasha. Посмотрим, какая в них разница"
   ]
  },
  {
   "cell_type": "code",
   "execution_count": 400,
   "id": "5cda9a5f-60b7-44b9-923c-0781a2a27bbc",
   "metadata": {},
   "outputs": [
    {
     "data": {
      "text/plain": [
       "[['.', '..'], ['.', 'и'], ['И', 'каждую'], ['каждую', 'ночь'], ['ночь', '—']]"
      ]
     },
     "execution_count": 400,
     "metadata": {},
     "output_type": "execute_result"
    }
   ],
   "source": [
    "ct = 0\n",
    "errors = []\n",
    "for sentence in stanza_result.sentences:\n",
    "    for word in sentence.words:\n",
    "        if ct < 397:\n",
    "            if  word.text.lower() != list_words[ct]['word']:\n",
    "                errors.append([word.text, list_words[ct]['word']])\n",
    "        ct += 1\n",
    "errors[:5]"
   ]
  },
  {
   "cell_type": "markdown",
   "id": "66393581-b1c6-4655-b27a-68a42da34544",
   "metadata": {},
   "source": [
    "Итак, stanza странно токенизирует пунктуацию. Попробуем привести ее в порядок. Заменим все пунктуационные знаки в тексте на точку: нам все равно, какой знак -- главное, что это пунктуация."
   ]
  },
  {
   "cell_type": "code",
   "execution_count": 401,
   "id": "def97961-6966-4f0b-a36c-c7481275dde7",
   "metadata": {},
   "outputs": [],
   "source": [
    "new_text = []\n",
    "for word in list_words:\n",
    "    if word['gold_stand'] == 'PUNCT':\n",
    "        new_text.append('.')\n",
    "    else:\n",
    "        new_text.append(word['word'])"
   ]
  },
  {
   "cell_type": "code",
   "execution_count": 402,
   "id": "5b75b465-6f68-48ce-9ef4-80f1f8bea974",
   "metadata": {},
   "outputs": [],
   "source": [
    "new_stanza_result = nlp(' '.join(new_text))"
   ]
  },
  {
   "cell_type": "code",
   "execution_count": 403,
   "id": "edb578b2-68c4-4746-86b0-a35bd12fb759",
   "metadata": {},
   "outputs": [
    {
     "data": {
      "text/plain": [
       "['прозрачно', 'прозрачно-желтым']"
      ]
     },
     "execution_count": 403,
     "metadata": {},
     "output_type": "execute_result"
    }
   ],
   "source": [
    "ct = 0\n",
    "errors = []\n",
    "for sentence in new_stanza_result.sentences:\n",
    "    for word in sentence.words:\n",
    "        if ct < 397:\n",
    "            if  word.text.lower() != list_words[ct]['word']:\n",
    "                errors.append([word.text.lower(), list_words[ct]['word']])\n",
    "        ct += 1\n",
    "errors[67]"
   ]
  },
  {
   "cell_type": "markdown",
   "id": "229a928f-a2da-4020-8db2-58bb404d511a",
   "metadata": {},
   "source": [
    "Итак, stanza разделила прозрачно-желтым по дефису. Будем на каждом слове искать такое же в списке. Проверим, правильно ли работает алгоритм:"
   ]
  },
  {
   "cell_type": "code",
   "execution_count": 404,
   "id": "2e63a559-d7f1-4273-a145-cfea398feaa2",
   "metadata": {},
   "outputs": [],
   "source": [
    "copy_list = list_words\n",
    "for sentence in new_stanza_result.sentences:\n",
    "    for word in sentence.words:\n",
    "        for true_word in copy_list:\n",
    "            if word.text.lower() == true_word['word']:\n",
    "                true_word['stanza'] = word.text.lower()"
   ]
  },
  {
   "cell_type": "code",
   "execution_count": 405,
   "id": "5e5eb588-5dbe-4fdd-b655-2b7901fa5a1e",
   "metadata": {},
   "outputs": [
    {
     "data": {
      "text/plain": [
       "[{'word': 'необычайно',\n",
       "  'gold_stand': 'ADVB',\n",
       "  'pymorphy': 'ADVB',\n",
       "  'natasha': ['ADV', {'Degree': 'Pos'}],\n",
       "  'stanza': 'необычайно'},\n",
       " {'word': 'красиво',\n",
       "  'gold_stand': 'ADJS',\n",
       "  'pymorphy': 'ADVB',\n",
       "  'natasha': ['ADV', {'Degree': 'Pos'}],\n",
       "  'stanza': 'красиво'},\n",
       " {'word': '.',\n",
       "  'gold_stand': 'PUNCT',\n",
       "  'pymorphy': 'PUNCT',\n",
       "  'natasha': ['PUNCT', {}],\n",
       "  'stanza': '.'}]"
      ]
     },
     "execution_count": 405,
     "metadata": {},
     "output_type": "execute_result"
    }
   ],
   "source": [
    "copy_list[-3:]"
   ]
  },
  {
   "cell_type": "markdown",
   "id": "28df082f-b09e-44c3-ad82-2c4fa978ba9e",
   "metadata": {},
   "source": [
    "Алгоритм работает правильно: слова не перемешались"
   ]
  },
  {
   "cell_type": "code",
   "execution_count": 406,
   "id": "4b2c540e-ac85-4a55-b6a5-7b2b311707d1",
   "metadata": {},
   "outputs": [],
   "source": [
    "for sentence in new_stanza_result.sentences:\n",
    "    for word in sentence.words:\n",
    "        for true_word in list_words:\n",
    "            if word.text.lower() == true_word['word']:\n",
    "                true_word['stanza'] = [word.upos,word.feats]"
   ]
  },
  {
   "cell_type": "code",
   "execution_count": 407,
   "id": "15fb0f4e-1e40-4e3f-874f-01f77ac6de67",
   "metadata": {},
   "outputs": [],
   "source": [
    "for word in list_words:\n",
    "    if word['stanza'] == '':\n",
    "        word['stanza'] = ['PUNCT', None]"
   ]
  },
  {
   "cell_type": "markdown",
   "id": "f2719c80-c2e2-4f8f-be37-73f26efc2816",
   "metadata": {},
   "source": [
    "# (2 балла) Затем оценим accuracy для каждого теггера. Заметьте, что в разных системах имена тегов и части речи могут отличаться, – вам надо будет свести это всё к единому стандарту с помощью какой-то функции-конвертера и сравнить с вашим размеченным руками эталоном - тоже с помощью какого-то кода или функции."
   ]
  },
  {
   "cell_type": "markdown",
   "id": "318d1f37-1ffa-403e-98c5-025d97eb75d9",
   "metadata": {},
   "source": [
    "# функция-конвертер"
   ]
  },
  {
   "cell_type": "markdown",
   "id": "30b60f95-cca0-4ddb-a49c-4e566e7b638a",
   "metadata": {},
   "source": [
    "Обратимся к таблице из начала:
     \n",
    "\n",
    "|часть речи| pymorphy (тэги OpenCorpora)| natasha / stanza (Universal Dependencies)| расширенный Universal Dependencies\n",
    "|----------|----------|----------|----------|\n",
    "| сущ.    | NOUN   |NOUN | NN   |\n",
    "| сущ. (собственнное)   | ?   | ? | NNP   |\n",
    "| прил. (полное)    | ADJF   |ADJ| JJL   |\n",
    "| прил. (краткое)    | ADJS   |ADJ| JJH   |\n",
    "| прил. (сравнительное)    | COMP   |ADJ| JJR   |\n",
    "| прил. (превосх.степень)    | ?   | ADJ|JJS  |\n",
    "| глагол (финитн.)    | VERB   |VERB| VBC   |\n",
    "| инфинитив    | INFN   |VERB| VB   |\n",
    "| прич. (полное)    | PRTF   |ADJ| VBNL   |\n",
    "| прич. (краткое)    | PRTS   |ADJ| VBNH   |\n",
    "| дееприч.   | GRND   | ADV|VBG   |\n",
    "| числ. (количественное)   | NUMR   | NUM|CD   |\n",
    "| числ. (порядковое)   | ?   |NUM| ORD   |\n",
    "| наречие  | ADVB   | ADV|RB   |\n",
    "| наречие (сравнительное) | ?   |ADV| RBR   |\n",
    "| наречие (превосх.степень) | ?   |ADV| RBS   |\n",
    "| мест. (сущ.)    | NPRO   | PRON |PRP   |\n",
    "| мест. (посесс.)    | ?   | DET |PRP$   |\n",
    "| предикатив    | PRED   |ADV| PRED  |\n",
    "| предлог    | PREP   |ADP| IN   |\n",
    "| союз    | CONJ   |CCONJ| CC   |\n",
    "| частица    | PRCL   | PART|RP   |\n",
    "| междометие    | INTJ   |INTJ| UH   |\n",
    "| самостоят.аффиксы    | ?  |?| AFX  |\n",
    "| детерминатор    | ?  |DET| DT  |\n",
    "| слово на др.языке    | ?  |?| FW  |\n",
    "| отрицательная частица    | ?  |PART| NEG  |\n",
    "| союз. (относ.)   | ?  |ADJ| WDT  |\n",
    "| мест. (относ.)   | ?  |PRON| WP  |\n",
    "| нар. (относ.)    | ?  |ADV| WRB  |"
   ]
  },
  {
   "cell_type": "code",
   "execution_count": 408,
   "id": "db7af90d-3ac9-43b2-a673-3a4fe81ffca9",
   "metadata": {},
   "outputs": [],
   "source": [
    "def UD_to_OC(tag):\n",
    "    true_tag = ''\n",
    "    if type(tag) == list:\n",
    "        true_tag = tag[0]\n",
    "        if tag[0] in ['ADJ','VERB','ADV','PRON',\n",
    "                      'DET','ADP','CCONJ','PART','SCONJ',\n",
    "                     'NUM','AUX','PROPN']:\n",
    "            if tag[0] == 'ADJ':\n",
    "                if 'short' in str(tag[1]).lower():\n",
    "                    true_tag = 'ADJS'\n",
    "                if 'cmp' in str(tag[1]).lower():\n",
    "                    true_tag = 'COMP'\n",
    "                else:\n",
    "                    true_tag = 'ADJF'\n",
    "            if tag[0] == 'VERB':\n",
    "                if 'inf' in str(tag[1]).lower():\n",
    "                    true_tag = 'INFN'\n",
    "                if 'part' in str(tag[1]).lower():\n",
    "                    if 'short' in str(tag[1]).lower():\n",
    "                        true_tag = 'PRTS'\n",
    "                    else:\n",
    "                        true_tag = 'PRTF'\n",
    "                else:\n",
    "                    true_tag = 'VERB'\n",
    "            if tag[0] == 'ADV':\n",
    "                if 'conv' in str(tag[1]).lower():\n",
    "                    true_tag = 'GRND'\n",
    "                else:\n",
    "                    true_tag = 'ADVB'\n",
    "            if tag[0] == 'PRON':\n",
    "                true_tag = 'NPRO'\n",
    "            if tag[0] == 'DET':\n",
    "                true_tag = 'ADJF'\n",
    "            if tag[0] == 'ADP':\n",
    "                true_tag = 'PREP'\n",
    "            if tag[0] == 'CCONJ':\n",
    "                true_tag = 'CONJ'\n",
    "            if tag[0] == 'SCONJ':\n",
    "                true_tag = 'CONJ'\n",
    "            if tag[0] == 'PART':\n",
    "                true_tag = 'PRCL'\n",
    "            if tag[0] == 'NUM':\n",
    "                true_tag = 'NUMR'\n",
    "            if tag[0] == 'AUX':\n",
    "                true_tag = 'VERB'\n",
    "            if tag[0] == 'PROPN':\n",
    "                true_tag = 'NOUN'\n",
    "    return true_tag"
   ]
  },
  {
   "cell_type": "code",
   "execution_count": 409,
   "id": "841212c6-3edc-44ea-9182-d600ad042c18",
   "metadata": {},
   "outputs": [],
   "source": [
    "for word in list_words:\n",
    "    word['pretty_natasha'] = UD_to_OC(word['natasha'])\n",
    "    word['pretty_stanza'] = UD_to_OC(word['stanza'])"
   ]
  },
  {
   "cell_type": "code",
   "execution_count": 410,
   "id": "8b131f14-9dcd-40c6-9062-619ac9a93884",
   "metadata": {},
   "outputs": [
    {
     "data": {
      "text/plain": [
       "{'PREP': 0,\n",
       " 'ADJF': 1,\n",
       " 'NOUN': 2,\n",
       " 'NPRO': 3,\n",
       " 'VERB': 4,\n",
       " 'PUNCT': 5,\n",
       " 'PRTF': 6,\n",
       " 'CONJ': 7,\n",
       " 'PRCL': 8,\n",
       " 'INFN': 9,\n",
       " 'ADVB': 10,\n",
       " 'COMP': 11,\n",
       " 'PRED': 12,\n",
       " None: 13,\n",
       " 'X': 14,\n",
       " 'GRND': 15,\n",
       " 'PRTS': 16,\n",
       " 'NUMR': 17,\n",
       " 'ADJS': 18}"
      ]
     },
     "execution_count": 410,
     "metadata": {},
     "output_type": "execute_result"
    }
   ],
   "source": [
    "dict_for_accuracy = {}\n",
    "ct = 0\n",
    "for word in list_words:\n",
    "    if word['gold_stand'] not in dict_for_accuracy:\n",
    "        dict_for_accuracy[word['gold_stand']] = ct\n",
    "        ct += 1\n",
    "dict_for_accuracy"
   ]
  },
  {
   "cell_type": "code",
   "execution_count": 411,
   "id": "8047e45b-c1bf-4043-806a-4e0d8a813979",
   "metadata": {},
   "outputs": [],
   "source": [
    "answers_natasha = []\n",
    "answers_pymorphy = []\n",
    "answers_stanza = []\n",
    "gold_stand = []\n",
    "for word in list_words:\n",
    "    answers_natasha.append(dict_for_accuracy[word['pretty_natasha']])\n",
    "    answers_pymorphy.append(dict_for_accuracy[word['pymorphy']])\n",
    "    answers_stanza.append(dict_for_accuracy[word['pretty_stanza']])\n",
    "    gold_stand.append(dict_for_accuracy[word['gold_stand']])"
   ]
  },
  {
   "cell_type": "markdown",
   "id": "dfc5555d-1e03-4ed3-a8c4-3b33db284543",
   "metadata": {},
   "source": [
    "# Считаем точность"
   ]
  },
  {
   "cell_type": "markdown",
   "id": "1b7e55ba-815e-4ec8-9c7a-d8a52e516e79",
   "metadata": {},
   "source": [
    "# pymorphy"
   ]
  },
  {
   "cell_type": "code",
   "execution_count": 412,
   "id": "53fe39c3-d834-4b26-8b54-2aa6c3725d4c",
   "metadata": {},
   "outputs": [
    {
     "data": {
      "text/plain": [
       "0.8916876574307305"
      ]
     },
     "execution_count": 412,
     "metadata": {},
     "output_type": "execute_result"
    }
   ],
   "source": [
    "acc_pymorphy = accuracy_score(gold_stand,answers_pymorphy)\n",
    "acc_pymorphy"
   ]
  },
  {
   "cell_type": "code",
   "execution_count": 413,
   "id": "ac6f83ce-aefd-4cac-b54e-ba6abaf88d32",
   "metadata": {},
   "outputs": [
    {
     "data": {
      "text/plain": [
       "<sklearn.metrics._plot.confusion_matrix.ConfusionMatrixDisplay at 0x2c00fabb0d0>"
      ]
     },
     "execution_count": 413,
     "metadata": {},
     "output_type": "execute_result"
    },
    {
     "data": {
      "image/png": "[encoded data removed]",
      "text/plain": [
       "<Figure size 640x480 with 2 Axes>"
      ]
     },
     "metadata": {},
     "output_type": "display_data"
    }
   ],
   "source": [
    "ConfusionMatrixDisplay(confusion_matrix(gold_stand,answers_pymorphy)).plot()"
   ]
  },
  {
   "cell_type": "markdown",
   "id": "1651b341-251d-4a5f-8398-999608b99615",
   "metadata": {},
   "source": [
    "# natasha"
   ]
  },
  {
   "cell_type": "code",
   "execution_count": 414,
   "id": "6f0f1dde-0208-4547-b3d6-cceaddb06154",
   "metadata": {},
   "outputs": [
    {
     "data": {
      "text/plain": [
       "0.8841309823677582"
      ]
     },
     "execution_count": 414,
     "metadata": {},
     "output_type": "execute_result"
    }
   ],
   "source": [
    "acc_natasha = accuracy_score(gold_stand,answers_natasha)\n",
    "acc_natasha"
   ]
  },
  {
   "cell_type": "code",
   "execution_count": 386,
   "id": "c9730932-7e35-4e9e-9d10-a81f5507ed67",
   "metadata": {},
   "outputs": [
    {
     "data": {
      "text/plain": [
       "<sklearn.metrics._plot.confusion_matrix.ConfusionMatrixDisplay at 0x2c00437a3e0>"
      ]
     },
     "execution_count": 386,
     "metadata": {},
     "output_type": "execute_result"
    },
    {
     "data": {
      "image/png": "[encoded data removed]",
      "text/plain": [
       "<Figure size 640x480 with 2 Axes>"
      ]
     },
     "metadata": {},
     "output_type": "display_data"
    }
   ],
   "source": [
    "ConfusionMatrixDisplay(confusion_matrix(gold_stand,answers_natasha)).plot()"
   ]
  },
  {
   "cell_type": "markdown",
   "id": "9fbe05cd-f514-4b32-8e2e-c2ca9f79f56f",
   "metadata": {},
   "source": [
    "# stanza"
   ]
  },
  {
   "cell_type": "code",
   "execution_count": 415,
   "id": "85fd4318-b047-40db-886b-edd450791b64",
   "metadata": {},
   "outputs": [
    {
     "data": {
      "text/plain": [
       "0.889168765743073"
      ]
     },
     "execution_count": 415,
     "metadata": {},
     "output_type": "execute_result"
    }
   ],
   "source": [
    "acc_stanza = accuracy_score(gold_stand,answers_stanza)\n",
    "acc_stanza"
   ]
  },
  {
   "cell_type": "code",
   "execution_count": 388,
   "id": "5f6d08ff-d743-4f6e-8faa-32e5848e6aad",
   "metadata": {},
   "outputs": [
    {
     "data": {
      "text/plain": [
       "<sklearn.metrics._plot.confusion_matrix.ConfusionMatrixDisplay at 0x2c00437b430>"
      ]
     },
     "execution_count": 388,
     "metadata": {},
     "output_type": "execute_result"
    },
    {
     "data": {
      "image/png": "[encoded data removed]",
      "text/plain": [
       "<Figure size 640x480 with 2 Axes>"
      ]
     },
     "metadata": {},
     "output_type": "display_data"
    }
   ],
   "source": [
    "ConfusionMatrixDisplay(confusion_matrix(gold_stand,answers_stanza)).plot()"
   ]
  },
  {
   "cell_type": "markdown",
   "id": "b245f524-264e-4e21-ac02-023087b5fa33",
   "metadata": {},
   "source": [
    "Итак, лучшим теггером оказался pymorphy"
   ]
  },
  {
   "cell_type": "markdown",
   "id": "9fb3601a-cbbd-4fea-a476-4356900f00a4",
   "metadata": {},
   "source": [
    "# (4 балла) Дальше вам нужно взять лучший теггер для русского языка и с его помощью написать функцию (chunker), которая выделяет из размеченного текста 3 типа n-грамм, соответствующих какому-то шаблону (к примеру не + какая-то часть речи или NP или сущ.+ наречие и тд) В предыдущем дз многие из вас справедливо заметили, что если бы мы могли класть в словарь не только отдельные слова, но и словосочетания, то программа работала бы лучше. Предложите 3 шаблона (слово + POS-тег / POS-тег + POS-тег) запись которых в словарь, по вашему мнению, улучшила бы качество работы программы из предыдущей домашки. Балл за объяснение того, почему именно эти группы вы взяли, балл за создание такого рода чанкера, балл за за встраивание функции в программу из предыдущей домашки, балл за сравнение качества предсказания тональности с улучшением и без."
   ]
  },
  {
   "cell_type": "markdown",
   "id": "0c123fbb-83d5-44eb-82a5-930aaabd7014",
   "metadata": {},
   "source": [
    "Я бы взяла следующие группы:\n",
    "- наречие + прилагательное. Слово *хороший* в теории может использоваться в негативном отзыве, а вот выражение *очень хороший*, *невероятно хороший* разочарованный клиент бы не написал\n",
    "- прилагательное + врач. Очевидно, что *опытный врач* встретится в положительном отзыве, а *плохой врач* -- в негативном\n",
    "- глагол + наречие. *прошло спокойно* встретится в положительном, а *было некомфортно* -- в негативном\n",
    "- *не* + глагол. Шаблоны типа *не приду*, *не рекомендую* встретятся в негативном отзыве\n",
    "- *спасибо* + прил. Сочетания типа *спасибо огромное*"
   ]
  },
  {
   "cell_type": "code",
   "execution_count": 654,
   "id": "de8fb9ae-8330-40ed-8893-f230b6c91596",
   "metadata": {},
   "outputs": [
    {
     "data": {
      "text/html": [
       "<div>\n",
       "<style scoped>\n",
       "    .dataframe tbody tr th:only-of-type {\n",
       "        vertical-align: middle;\n",
       "    }\n",
       "\n",
       "    .dataframe tbody tr th {\n",
       "        vertical-align: top;\n",
       "    }\n",
       "\n",
       "    .dataframe thead th {\n",
       "        text-align: right;\n",
       "    }\n",
       "</style>\n",
       "<table border=\"1\" class=\"dataframe\">\n",
       "  <thead>\n",
       "    <tr style=\"text-align: right;\">\n",
       "      <th></th>\n",
       "      <th>review</th>\n",
       "      <th>rating</th>\n",
       "    </tr>\n",
       "  </thead>\n",
       "  <tbody>\n",
       "    <tr>\n",
       "      <th>57</th>\n",
       "      <td>Обратился на приём 31.08.2023 ПЛАТНО ! с жалоб...</td>\n",
       "      <td>0</td>\n",
       "    </tr>\n",
       "    <tr>\n",
       "      <th>2</th>\n",
       "      <td>Недавно мне пришлось обратиться за медицинской...</td>\n",
       "      <td>1</td>\n",
       "    </tr>\n",
       "  </tbody>\n",
       "</table>\n",
       "</div>"
      ],
      "text/plain": [
       "                                               review  rating\n",
       "57  Обратился на приём 31.08.2023 ПЛАТНО ! с жалоб...       0\n",
       "2   Недавно мне пришлось обратиться за медицинской...       1"
      ]
     },
     "execution_count": 654,
     "metadata": {},
     "output_type": "execute_result"
    }
   ],
   "source": [
    "data = pd.read_csv('reviews.csv')\n",
    "data = data.sample(frac=1)\n",
    "data[:2]"
   ]
  },
  {
   "cell_type": "code",
   "execution_count": 655,
   "id": "11ffe2b1-11d4-4907-a928-3478ca73232d",
   "metadata": {},
   "outputs": [
    {
     "data": {
      "text/plain": [
       "'обратился/VERB на/PREP приём/NOUN 31.08.2023/PUNCT платно/ADVB !/PUNCT с/PREP жалобами/NOUN на/PREP высокую/ADJF температуру/NOUN -/PUNCT 38,5-39/PUNCT градусов/NOUN ,/PUNCT которая/ADJF поднялась/VERB накануне/ADVB вечером/ADVB ,/PUNCT выделения/NOUN из/PREP носа/NOUN ,/PUNCT сухой/ADJF кашель/NOUN ,/PUNCT слабость/NOUN ,/PUNCT ломоту/NOUN в/PREP теле/NOUN ./PUNCT врач/NOUN жаравина/NOUN расспросила/VERB меня/NPRO мои/ADJF жалобы/NOUN ,/PUNCT осмотрела/VERB меня/NPRO поверхностно/ADVB -/PUNCT посмотрела/VERB горло/NOUN за/PREP 1/PUNCT секунду/NOUN ,/PUNCT послушала/VERB лёгкие/NOUN за/PREP 5/PUNCT секунд/NOUN ,/PUNCT измеряла/VERB давление/NOUN ,/PUNCT пульс/NOUN ,/PUNCT кислород/NOUN в/PREP крови/NOUN ,/PUNCT задала/VERB вопрос/NOUN про/PREP стул/NOUN ,/PUNCT мочу/NOUN ,/PUNCT живот/NOUN и/CONJ на/PREP этом/NPRO ей/NPRO все/PRCL вдруг/ADVB стало/VERB ясно/ADVB и/CONJ понятно/ADVB ./PUNCT назначила/VERB анализы/NOUN на/PREP ковид/NOUN ,/PUNCT грипп/NOUN ,/PUNCT кровь/NOUN на/PREP воспаление/NOUN ./PUNCT хотел/VERB задать/INFN ей/NPRO вопрос/NOUN -/PUNCT причем/CONJ тут/ADVB ковид/NOUN ,/PUNCT если/CONJ ковида/NOUN уже/ADVB давно/ADVB нет/PRED ,/PUNCT гриппа/NOUN еще/ADVB нет/PRED ./PUNCT зачем/ADVB нужно/PRED сдавать/INFN эти/ADJF мазки/NOUN за/PREP безумные/ADJF деньги/NOUN ,/PUNCT вероятно/CONJ чтоб/CONJ деньги/NOUN взять/INFN с/PREP больного/ADJF ?/PUNCT назначила/VERB арбидол/NOUN -/PUNCT говорю/VERB ей/NPRO ,/PUNCT что/CONJ этот/ADJF препарат/NOUN врачи/NOUN уже/ADVB давно/ADVB не/PRCL используют/VERB ,/PUNCT что/CONJ это/PRCL прошлый/ADJF век/NOUN ./PUNCT она/NPRO мне/NPRO на/PREP это/PRCL отвечает/VERB ,/PUNCT что/CONJ есть/INFN клинические/ADJF рекомендации/NOUN минздрава/NOUN и/CONJ стандарты/NOUN ,/PUNCT по/PREP которым/ADJF работает/VERB любой/ADJF врач/NOUN ,/PUNCT в/PREP том/ADJF числе/NOUN типа/NOUN и/CONJ я./PUNCT второй/ADJF день/NOUN болезни/NOUN мол/PRCL -/PUNCT что/CONJ антибиотики/NOUN не/PRCL нужны/ADJS ,/PUNCT типу/NOUN что/CONJ нет/PRED данных/NOUN в/PREP пользу/NOUN бактерий/NOUN и/CONJ т.п/PUNCT ./PUNCT позвала/VERB на/PREP приём/NOUN через/PREP 2/PUNCT дня/NOUN с/PREP анализами/NOUN ./PUNCT в/PREP итоге/NOUN я/NPRO попал/VERB в/PREP больницу/NOUN с/PREP острым/ADJF бронхитом/NOUN и/CONJ там/ADVB ее/NPRO назначения/NOUN просто/PRCL раскритиковали/VERB ,/PUNCT сказали/VERB ,/PUNCT что/CONJ так/CONJ уже/ADVB никто/NPRO не/PRCL лечит/VERB ./PUNCT как/CONJ можно/PRED доверять/INFN этому/ADJF врачу/NOUN ?/PUNCT советую/VERB обходить/INFN ее/NPRO кабинет/NOUN стороной/NOUN ./PUNCT тогда/ADVB лечение/NOUN станет/VERB значительно/ADVB эффективней/COMP ./PUNCT'"
      ]
     },
     "execution_count": 655,
     "metadata": {},
     "output_type": "execute_result"
    }
   ],
   "source": [
    "def transform_text(text):\n",
    "    result = ''\n",
    "    temp_sentence = []\n",
    "    list_sentences = []\n",
    "    for sentence in sent_tokenize(text):\n",
    "        for word in word_tokenize(sentence):\n",
    "            if morph.parse(word)[0].tag.POS != None:\n",
    "                list_sentences.append(f'{word.lower()}/{morph.parse(word)[0].tag.POS}')\n",
    "            else:\n",
    "                list_sentences.append(f'{word.lower()}/PUNCT')\n",
    "    for sentence in list_sentences:\n",
    "        temp_sentence.append(sentence)\n",
    "    result = ' '.join(temp_sentence)\n",
    "    return result\n",
    "transform_text(data.review.iloc[0])"
   ]
  },
  {
   "cell_type": "code",
   "execution_count": 656,
   "id": "0a7a912b-7dd5-43f0-9d45-d3e5bddbb2c4",
   "metadata": {},
   "outputs": [],
   "source": [
    "data['transformed'] = data.review.apply(transform_text)"
   ]
  },
  {
   "cell_type": "markdown",
   "id": "bcd9ba5e-1445-41ab-ae25-5d74238d2b83",
   "metadata": {},
   "source": [
    "Эта функция написана специально для биграмм"
   ]
  },
  {
   "cell_type": "code",
   "execution_count": 712,
   "id": "e4fe835b-33bb-4090-9728-69bb09fd8052",
   "metadata": {
    "tags": []
   },
   "outputs": [],
   "source": [
    "def chuncker(sentence, to_find, fixed_order):\n",
    "    zero = '{0,1}'\n",
    "    list_results = []\n",
    "    if fixed_order:\n",
    "        grammar = f'[^ \\/]*\\/{zero}{to_find[0]} {zero}[^ ]* {zero}[^ \\/]*{to_find[1]}[^ ]*'\n",
    "        for result in re.findall(grammar, sentence):\n",
    "            if result.count('/') <= 2:\n",
    "                result = ' '.join(re.findall('[а-я]+(?=\\/)',result))\n",
    "                list_results.append(result)\n",
    "    else:\n",
    "        for item in [[0,1],[1,0]]:\n",
    "            grammar = f'[^ \\/]*\\/{zero}{to_find[item[0]]} {zero}[^ ]* {zero}[^ \\/]*\\/{zero}{to_find[item[1]]}[^ ]*'\n",
    "            for result in re.findall(grammar, sentence):\n",
    "                if result.count('/') <= 2:\n",
    "                    result = ' '.join(re.findall('[а-я]+(?=\\/)',result))\n",
    "                    list_results.append(result)\n",
    "                    \n",
    "    return list_results"
   ]
  },
  {
   "cell_type": "markdown",
   "id": "51188cdf-5ce5-4e58-8c87-d2d255e44f11",
   "metadata": {},
   "source": [
    "Тестовый текст со всеми биграммами, которые я обозначила ранее"
   ]
  },
  {
   "cell_type": "code",
   "execution_count": 713,
   "id": "afabc487-348f-4d2b-bc4e-be2c6581237f",
   "metadata": {},
   "outputs": [
    {
     "data": {
      "text/plain": [
       "['очень красивый',\n",
       " 'яркая очень',\n",
       " 'врач хороший',\n",
       " 'умный врач',\n",
       " 'стреляет жутко',\n",
       " 'сильно болит',\n",
       " 'не люблю',\n",
       " 'спасибо огромное',\n",
       " 'большое спасибо']"
      ]
     },
     "execution_count": 713,
     "metadata": {},
     "output_type": "execute_result"
    }
   ],
   "source": [
    "text = 'очень красивый цветок , радуга яркая очень, умный врач, врач хороший, сильно болит, стреляет жутко, не люблю жвачку, спасибо огромное, большое спасибо'\n",
    "def find_bigrams(text, list_bigrams):\n",
    "    results = []\n",
    "    for item in list_bigrams:\n",
    "        if item != ['VERB','не']:\n",
    "            for result in chuncker(text, item, False):\n",
    "                results.append(result)\n",
    "        else:\n",
    "            for result in chuncker(text, item, True):\n",
    "                results.append(result)\n",
    "    return results\n",
    "find_bigrams(transform_text(text), [['ADVB','ADJ[FS]'], ['врач', 'ADJ[SF]'],\n",
    "                 ['VERB','ADVB'], ['не','VERB'], ['спасибо','ADJ[FS]']])"
   ]
  },
  {
   "cell_type": "markdown",
   "id": "e1c76f7f-9bc0-4a26-8cd8-2714db3c54dc",
   "metadata": {},
   "source": [
    "## Вспомним алгоритм из прошлого дз"
   ]
  },
  {
   "cell_type": "code",
   "execution_count": 665,
   "id": "47d7dc84-7a59-4cb4-bf48-a4c98bc9f9e8",
   "metadata": {},
   "outputs": [],
   "source": [
    "def make_clear_text(text):\n",
    "    text = text.lower()\n",
    "    text = re.sub(r\"\\.(?=[^ ])\", \". \", text, 0, re.MULTILINE)\n",
    "    text = re.sub(r\"\\d\", \"\", text, 0, re.MULTILINE)\n",
    "    new_text = []\n",
    "    for word in word_tokenize(text):\n",
    "        if word not in punctuation:\n",
    "            if len(word) > 1:\n",
    "                lemma = morph.parse(word)[0].normal_form\n",
    "                if lemma not in stopwords.words('russian'):\n",
    "                    # не будем включать имена\n",
    "                    if 'Name' not in morph.parse(word)[0].tag:\n",
    "                        if 'Patr' not in morph.parse(word)[0].tag:\n",
    "                            if 'Surn' not in morph.parse(word)[0].tag:\n",
    "                                if len(word) > 2:\n",
    "                                    new_text.append(lemma)\n",
    "    new_text = ' '.join(new_text)\n",
    "    return new_text\n",
    "data['clean'] = data.review.apply(make_clear_text)"
   ]
  },
  {
   "cell_type": "code",
   "execution_count": 666,
   "id": "6ec1e0f4-ec18-4fc2-a88d-356ec97f0b65",
   "metadata": {},
   "outputs": [],
   "source": [
    "data_train = pd.concat([data[data.rating == 1].sample(frac=0.85), data[data.rating == 0].sample(frac=0.85)])\n",
    "data_test = data[~data.review.isin(data_train.review.to_list())]"
   ]
  },
  {
   "cell_type": "code",
   "execution_count": 771,
   "id": "1a3a8b15-0055-4a2d-91cb-041ce9ce22a0",
   "metadata": {},
   "outputs": [],
   "source": [
    "all_good_text = ' '.join(data_train[data_train.rating == 1].clean.to_list()).split()\n",
    "all_bad_text = ' '.join(data_train[data_train.rating == 0].clean.to_list()).split()\n",
    "\n",
    "good_words = []\n",
    "bad_words = []\n",
    "for word in all_good_text+all_bad_text:\n",
    "    if word in all_good_text:\n",
    "        if word not in all_bad_text:\n",
    "            good_words.append(word)\n",
    "    elif word in all_bad_text:\n",
    "        if word not in all_good_text:\n",
    "            bad_words.append(word)\n",
    "            \n",
    "counter_good = Counter(good_words)\n",
    "counter_bad = Counter(bad_words)\n",
    "good_words_final = []\n",
    "bad_words_final = []\n",
    "for word in counter_good:\n",
    "    if counter_good[word] > 2:\n",
    "        good_words_final.append(word)\n",
    "for word in counter_bad:\n",
    "    if counter_bad[word] > 2:\n",
    "        bad_words_final.append(word)"
   ]
  },
  {
   "cell_type": "code",
   "execution_count": 672,
   "id": "7aaa17da-ffd3-459a-929a-29b24525057d",
   "metadata": {},
   "outputs": [
    {
     "name": "stderr",
     "output_type": "stream",
     "text": [
      "C:\\Users\\Ann\\AppData\\Local\\Temp\\ipykernel_15504\\1444305396.py:23: SettingWithCopyWarning: \n",
      "A value is trying to be set on a copy of a slice from a DataFrame.\n",
      "Try using .loc[row_indexer,col_indexer] = value instead\n",
      "\n",
      "See the caveats in the documentation: https://pandas.pydata.org/pandas-docs/stable/user_guide/indexing.html#returning-a-view-versus-a-copy\n",
      "  data_test['predicted_old'] = data_test.clean.apply(choose_polarity)\n"
     ]
    }
   ],
   "source": [
    "def choose_polarity(text):\n",
    "    dict_good = {}\n",
    "    dict_bad = {}\n",
    "    for word in text.split():\n",
    "        if word in good_words_final:\n",
    "            if word not in dict_good:\n",
    "                dict_good[word] = 1\n",
    "            else:\n",
    "                dict_good[word] += 1\n",
    "        if word in bad_words_final:\n",
    "            if word not in dict_bad:\n",
    "                dict_bad[word] = 1\n",
    "            else:\n",
    "                dict_bad[word] += 1\n",
    "    if sum(dict_good.values()) >= sum(dict_bad.values()):\n",
    "        # хороший отзыв\n",
    "        polarity = 1\n",
    "    else:\n",
    "        # плохой отзыв\n",
    "        polarity = 0\n",
    "    return polarity\n",
    "\n",
    "data_test['predicted_old'] = data_test.clean.apply(choose_polarity)"
   ]
  },
  {
   "cell_type": "code",
   "execution_count": 714,
   "id": "3a7ac576-03a2-4740-b879-d81ef47f9d85",
   "metadata": {},
   "outputs": [
    {
     "data": {
      "text/plain": [
       "0.6428571428571429"
      ]
     },
     "execution_count": 714,
     "metadata": {},
     "output_type": "execute_result"
    }
   ],
   "source": [
    "accuracy_score(data_test.rating,data_test['predicted_old'])"
   ]
  },
  {
   "cell_type": "markdown",
   "id": "f686d566-29cf-4520-bae8-85bc6efc56eb",
   "metadata": {},
   "source": [
    "## Улучшим алгоритм"
   ]
  },
  {
   "cell_type": "code",
   "execution_count": 683,
   "id": "11762eb4-38db-4377-8cfc-d7c641a61c76",
   "metadata": {},
   "outputs": [],
   "source": [
    "bigrams = [['ADVB','ADJ[FS]'], ['врач', 'ADJ[SF]'],\n",
    "           ['VERB','ADVB'], ['не','VERB'], ['спасибо','ADJ[FS]']]"
   ]
  },
  {
   "cell_type": "code",
   "execution_count": 723,
   "id": "f7f1f232-d0ab-4e29-be76-99db1a225584",
   "metadata": {},
   "outputs": [
    {
     "data": {
      "text/html": [
       "<div>\n",
       "<style scoped>\n",
       "    .dataframe tbody tr th:only-of-type {\n",
       "        vertical-align: middle;\n",
       "    }\n",
       "\n",
       "    .dataframe tbody tr th {\n",
       "        vertical-align: top;\n",
       "    }\n",
       "\n",
       "    .dataframe thead th {\n",
       "        text-align: right;\n",
       "    }\n",
       "</style>\n",
       "<table border=\"1\" class=\"dataframe\">\n",
       "  <thead>\n",
       "    <tr style=\"text-align: right;\">\n",
       "      <th></th>\n",
       "      <th>review</th>\n",
       "      <th>rating</th>\n",
       "      <th>transformed</th>\n",
       "      <th>clean</th>\n",
       "      <th>predicted_new</th>\n",
       "    </tr>\n",
       "  </thead>\n",
       "  <tbody>\n",
       "    <tr>\n",
       "      <th>13</th>\n",
       "      <td>Брекеты стала носить из-за неправильного прику...</td>\n",
       "      <td>1</td>\n",
       "      <td>брекеты/NOUN стала/VERB носить/INFN из-за/PREP...</td>\n",
       "      <td>брекет стать носить из-за неправильный прикус ...</td>\n",
       "      <td>[могла уже, не могла]</td>\n",
       "    </tr>\n",
       "    <tr>\n",
       "      <th>15</th>\n",
       "      <td>После наступления менопаузы начались проблемы ...</td>\n",
       "      <td>1</td>\n",
       "      <td>после/PREP наступления/NOUN менопаузы/NOUN нач...</td>\n",
       "      <td>наступление менопауза начаться проблема сексуа...</td>\n",
       "      <td>[очень действенно, знающему врачу, хотелось ср...</td>\n",
       "    </tr>\n",
       "  </tbody>\n",
       "</table>\n",
       "</div>"
      ],
      "text/plain": [
       "                                               review  rating  \\\n",
       "13  Брекеты стала носить из-за неправильного прику...       1   \n",
       "15  После наступления менопаузы начались проблемы ...       1   \n",
       "\n",
       "                                          transformed  \\\n",
       "13  брекеты/NOUN стала/VERB носить/INFN из-за/PREP...   \n",
       "15  после/PREP наступления/NOUN менопаузы/NOUN нач...   \n",
       "\n",
       "                                                clean  \\\n",
       "13  брекет стать носить из-за неправильный прикус ...   \n",
       "15  наступление менопауза начаться проблема сексуа...   \n",
       "\n",
       "                                        predicted_new  \n",
       "13                              [могла уже, не могла]  \n",
       "15  [очень действенно, знающему врачу, хотелось ср...  "
      ]
     },
     "execution_count": 723,
     "metadata": {},
     "output_type": "execute_result"
    }
   ],
   "source": [
    "data_train['predicted_new'] = data_train.transformed.apply(find_bigrams,list_bigrams=bigrams)\n",
    "data_train[:2]"
   ]
  },
  {
   "cell_type": "code",
   "execution_count": 758,
   "id": "e4c44ec5-6f3f-4cae-9526-6eea3580645b",
   "metadata": {},
   "outputs": [],
   "source": [
    "good_bigrams = []\n",
    "bad_bigrams = []\n",
    "temp = []\n",
    "\n",
    "for line in data_train[data_train.rating == 1].predicted_new:\n",
    "    for result in line:\n",
    "        for word in word_tokenize(result):\n",
    "            temp.append(morph.parse(word)[0].normal_form)\n",
    "        good_bigrams.append(' '.join(temp))\n",
    "        temp = []\n",
    "for line in data_train[data_train.rating == 0].predicted_new:\n",
    "    for result in line:\n",
    "        for word in word_tokenize(result):\n",
    "            temp.append(morph.parse(word)[0].normal_form)\n",
    "        bad_bigrams.append(' '.join(temp))\n",
    "        temp = []\n",
    "\n",
    "counter_good = Counter(good_bigrams)\n",
    "counter_bad = Counter(bad_bigrams)\n",
    "good_bigrams_final = []\n",
    "bad_bigrams_final = []\n",
    "\n",
    "for bigram in counter_good:\n",
    "    if bigram not in bad_bigrams:\n",
    "        if counter_good[bigram] > 1:\n",
    "            good_bigrams_final.append(bigram)\n",
    "for bigram in counter_bad:\n",
    "    if bigram not in good_bigrams:\n",
    "        if counter_bad[bigram] > 1:\n",
    "            bad_bigrams_final.append(bigram)"
   ]
  },
  {
   "cell_type": "code",
   "execution_count": 760,
   "id": "52c5f224-faa6-4377-9edd-a6ad9de9c186",
   "metadata": {
    "tags": []
   },
   "outputs": [
    {
     "data": {
      "text/plain": [
       "(['стать более',\n",
       "  'очень внимательный',\n",
       "  'очень благодарный',\n",
       "  'я поставить',\n",
       "  'спасибо большой',\n",
       "  'очень понравиться',\n",
       "  'вполне оправдывать',\n",
       "  'записываться заранее',\n",
       "  'очень довольный',\n",
       "  'пройти безболезненно'],\n",
       " ['не быть',\n",
       "  'не рекомендовать',\n",
       "  'не хотеть',\n",
       "  'не увидеть',\n",
       "  'не давать',\n",
       "  'не обратиться',\n",
       "  'этот врач',\n",
       "  'не советовать',\n",
       "  'не отвечать',\n",
       "  'не помочь',\n",
       "  'быть не',\n",
       "  'не сказать',\n",
       "  'не стать',\n",
       "  'не уметь',\n",
       "  'не дать',\n",
       "  'ранее опубликовывать'])"
      ]
     },
     "execution_count": 760,
     "metadata": {},
     "output_type": "execute_result"
    }
   ],
   "source": [
    "good_bigrams_final, bad_bigrams_final"
   ]
  },
  {
   "cell_type": "code",
   "execution_count": 774,
   "id": "8e9b8caa-3a86-4a72-95aa-b47161a7ab76",
   "metadata": {},
   "outputs": [
    {
     "name": "stderr",
     "output_type": "stream",
     "text": [
      "C:\\Users\\Ann\\AppData\\Local\\Temp\\ipykernel_15504\\4003798945.py:17: SettingWithCopyWarning: \n",
      "A value is trying to be set on a copy of a slice from a DataFrame.\n",
      "Try using .loc[row_indexer,col_indexer] = value instead\n",
      "\n",
      "See the caveats in the documentation: https://pandas.pydata.org/pandas-docs/stable/user_guide/indexing.html#returning-a-view-versus-a-copy\n",
      "  data_test['predicted_new'] = data_test.clean.apply(choose_polarity_with_bigrams)\n"
     ]
    }
   ],
   "source": [
    "def choose_polarity_with_bigrams(clean_text):\n",
    "    good_score = 0\n",
    "    bad_score = 0\n",
    "    \n",
    "    for bigram in good_bigrams_final:\n",
    "        if bigram in clean_text:\n",
    "            good_score += 1\n",
    "    for bigram in bad_bigrams_final:\n",
    "        if bigram in clean_text:\n",
    "            bad_score += 1\n",
    "    if good_score >= bad_score:\n",
    "        polarity = 1\n",
    "    else:\n",
    "        polarity = 0\n",
    "    return polarity\n",
    "\n",
    "data_test['predicted_new'] = data_test.clean.apply(choose_polarity_with_bigrams)"
   ]
  },
  {
   "cell_type": "code",
   "execution_count": 768,
   "id": "36171aa7-9242-4268-9799-e8d5b1b1ba65",
   "metadata": {},
   "outputs": [
    {
     "data": {
      "text/plain": [
       "0.5714285714285714"
      ]
     },
     "execution_count": 768,
     "metadata": {},
     "output_type": "execute_result"
    }
   ],
   "source": [
    "accuracy_score(data_test.rating,data_test['predicted_new'])"
   ]
  },
  {
   "cell_type": "markdown",
   "id": "5a6f24ab-432a-40a9-916a-2732bf0632a9",
   "metadata": {},
   "source": [
    "Итак, качество уменьшилось. Посмотрим на матрицы потерь"
   ]
  },
  {
   "cell_type": "code",
   "execution_count": 769,
   "id": "61be1bf4-84a8-4c1d-891a-43541f7f2d35",
   "metadata": {},
   "outputs": [
    {
     "data": {
      "text/plain": [
       "<sklearn.metrics._plot.confusion_matrix.ConfusionMatrixDisplay at 0x2c01c1c7eb0>"
      ]
     },
     "execution_count": 769,
     "metadata": {},
     "output_type": "execute_result"
    },
    {
     "data": {
      "image/png": "[encoded data removed]",
      "text/plain": [
       "<Figure size 640x480 with 2 Axes>"
      ]
     },
     "metadata": {},
     "output_type": "display_data"
    },
    {
     "data": {
      "image/png": "[encoded data removed]",
      "text/plain": [
       "<Figure size 640x480 with 2 Axes>"
      ]
     },
     "metadata": {},
     "output_type": "display_data"
    }
   ],
   "source": [
    "ConfusionMatrixDisplay(confusion_matrix(data_test.rating,data_test['predicted_old'])).plot(),\n",
    "ConfusionMatrixDisplay(confusion_matrix(data_test.rating,data_test['predicted_new'])).plot()"
   ]
  },
  {
   "cell_type": "markdown",
   "id": "d4def8d9-cb8d-4585-b0ff-55a85aed151e",
   "metadata": {},
   "source": [
    "Все негативные тексты отнеслись к позитивным. Попробуем использовать и биграммы, и слова"
   ]
  },
  {
   "cell_type": "code",
   "execution_count": 778,
   "id": "44b9d242-3221-43d9-a3e0-d07b77e108e5",
   "metadata": {},
   "outputs": [
    {
     "name": "stderr",
     "output_type": "stream",
     "text": [
      "C:\\Users\\Ann\\AppData\\Local\\Temp\\ipykernel_15504\\2017417204.py:24: SettingWithCopyWarning: \n",
      "A value is trying to be set on a copy of a slice from a DataFrame.\n",
      "Try using .loc[row_indexer,col_indexer] = value instead\n",
      "\n",
      "See the caveats in the documentation: https://pandas.pydata.org/pandas-docs/stable/user_guide/indexing.html#returning-a-view-versus-a-copy\n",
      "  data_test['predicted_supernew'] = data_test.clean.apply(choose_polarity_with_bigrams_and_words)\n"
     ]
    }
   ],
   "source": [
    "def choose_polarity_with_bigrams_and_words(clean_text):\n",
    "    good_score = 0\n",
    "    bad_score = 0\n",
    "    \n",
    "    for bigram in good_bigrams_final:\n",
    "        if bigram in clean_text:\n",
    "            good_score += 1\n",
    "    for bigram in bad_bigrams_final:\n",
    "        if bigram in clean_text:\n",
    "            bad_score += 1\n",
    "            \n",
    "    for word in clean_text.split():\n",
    "        if word in good_words_final:\n",
    "            good_score += 1\n",
    "        if word in bad_words_final:\n",
    "            bad_score += 1\n",
    "    \n",
    "    if good_score >= bad_score:\n",
    "        polarity = 1\n",
    "    else:\n",
    "        polarity = 0\n",
    "    return polarity\n",
    "\n",
    "data_test['predicted_supernew'] = data_test.clean.apply(choose_polarity_with_bigrams_and_words)"
   ]
  },
  {
   "cell_type": "code",
   "execution_count": 779,
   "id": "05d91807-710a-4b68-bdb5-776fdda5a857",
   "metadata": {},
   "outputs": [
    {
     "data": {
      "text/plain": [
       "0.6428571428571429"
      ]
     },
     "execution_count": 779,
     "metadata": {},
     "output_type": "execute_result"
    }
   ],
   "source": [
    "accuracy_score(data_test.rating,data_test['predicted_supernew'])"
   ]
  },
  {
   "cell_type": "code",
   "execution_count": 780,
   "id": "736fb564-c277-418b-aa2c-38df42a404cf",
   "metadata": {},
   "outputs": [
    {
     "data": {
      "text/plain": [
       "<sklearn.metrics._plot.confusion_matrix.ConfusionMatrixDisplay at 0x2c01c6abf10>"
      ]
     },
     "execution_count": 780,
     "metadata": {},
     "output_type": "execute_result"
    },
    {
     "data": {
      "image/png": "[encoded data removed]",
      "text/plain": [
       "<Figure size 640x480 with 2 Axes>"
      ]
     },
     "metadata": {},
     "output_type": "display_data"
    },
    {
     "data": {
      "image/png": "[encoded data removed]",
      "text/plain": [
       "<Figure size 640x480 with 2 Axes>"
      ]
     },
     "metadata": {},
     "output_type": "display_data"
    }
   ],
   "source": [
    "ConfusionMatrixDisplay(confusion_matrix(data_test.rating,data_test['predicted_old'])).plot(),\n",
    "ConfusionMatrixDisplay(confusion_matrix(data_test.rating,data_test['predicted_supernew'])).plot()"
   ]
  },
  {
   "cell_type": "markdown",
   "id": "affd2e2b-234f-48e9-91da-5b65285e89a2",
   "metadata": {},
   "source": [
    "Итак, похоже, добавление биграмм никак не улучшает алгоритм, а алгоритм, основанный только на биграммах, наоборот ухудшается"
   ]
  },
  {
   "cell_type": "code",
   "execution_count": null,
   "id": "626f0e9e-a33a-4185-8693-9891d97bc7bd",
   "metadata": {},
   "outputs": [],
   "source": []
  }
 ],
 "metadata": {
  "kernelspec": {
   "display_name": "Python 3 (ipykernel)",
   "language": "python",
   "name": "python3"
  },
  "language_info": {
   "codemirror_mode": {
    "name": "ipython",
    "version": 3
   },
   "file_extension": ".py",
   "mimetype": "text/x-python",
   "name": "python",
   "nbconvert_exporter": "python",
   "pygments_lexer": "ipython3",
   "version": "3.10.4"
  }
 },
 "nbformat": 4,
 "nbformat_minor": 5
}
