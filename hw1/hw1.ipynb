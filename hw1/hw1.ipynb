{
 "cells": [
  {
   "cell_type": "code",
   "execution_count": 740,
   "id": "27799809-8095-4247-bd73-4fa13fc687bd",
   "metadata": {},
   "outputs": [],
   "source": [
    "import requests\n",
    "from fake_useragent import UserAgent\n",
    "import random\n",
    "import time\n",
    "from bs4 import BeautifulSoup\n",
    "from tqdm import tqdm\n",
    "\n",
    "import pandas as pd\n",
    "\n",
    "from nltk.tokenize import sent_tokenize, word_tokenize\n",
    "from string import punctuation\n",
    "import re\n",
    "import pymorphy2\n",
    "\n",
    "from collections import Counter\n",
    "\n",
    "from sklearn.metrics import accuracy_score\n",
    "from sklearn.metrics import confusion_matrix,ConfusionMatrixDisplay\n",
    "\n",
    "from gensim.models import Word2Vec\n",
    "import nltk\n",
    "from nltk.corpus import stopwords\n",
    "\n",
    "from sklearn.metrics.pairwise import cosine_similarity"
   ]
  },
  {
   "cell_type": "code",
   "execution_count": 469,
   "id": "b4370b42-23b7-4e72-a8ea-541fa3be6a3d",
   "metadata": {},
   "outputs": [
    {
     "name": "stderr",
     "output_type": "stream",
     "text": [
      "[nltk_data] Downloading package stopwords to\n",
      "[nltk_data]     C:\\Users\\Ann\\AppData\\Roaming\\nltk_data...\n",
      "[nltk_data]   Package stopwords is already up-to-date!\n"
     ]
    },
    {
     "data": {
      "text/plain": [
       "True"
      ]
     },
     "execution_count": 469,
     "metadata": {},
     "output_type": "execute_result"
    }
   ],
   "source": [
    "nltk.download('stopwords')"
   ]
  },
  {
   "cell_type": "markdown",
   "id": "3b46e405-ec77-4bfb-aaeb-96c7bb946693",
   "metadata": {},
   "source": [
    "# Загрузка данных"
   ]
  },
  {
   "cell_type": "code",
   "execution_count": 205,
   "id": "cd165e7c-30fb-49e9-b4ff-e7e0b1a8831a",
   "metadata": {},
   "outputs": [],
   "source": [
    "session = requests.session()\n",
    "adapter = requests.adapters.HTTPAdapter(\n",
    "    pool_connections=10, # Количество пулов соединений\n",
    "    pool_maxsize=10 # Размер каждого пула\n",
    ")\n",
    "session.mount('https://', adapter)\n",
    "ua = UserAgent()\n",
    "headers = {'User-Agent': ua.random}\n",
    "proxy = ['45.8.107.56',\n",
    "        '172.64.103.77',\n",
    "        '66.235.200.132']\n",
    "proxies = {'http': f'http://{proxy[random.randrange(0,3)]}'}"
   ]
  },
  {
   "cell_type": "code",
   "execution_count": 241,
   "id": "865cac62-15ff-426d-929c-b9e49059f9ab",
   "metadata": {},
   "outputs": [
    {
     "name": "stderr",
     "output_type": "stream",
     "text": [
      "100%|████████████████████████████████████████████████████████████████████████████████████████████████████████████████████████████████████████████████████| 3/3 [00:16<00:00,  5.48s/it]\n",
      "100%|████████████████████████████████████████████████████████████████████████████████████████████████████████████████████████████████████████████████████| 3/3 [00:16<00:00,  5.51s/it]\n"
     ]
    }
   ],
   "source": [
    "good_reviews = []\n",
    "bad_reviews = []\n",
    "# сначала качаем отзывы со страницы с отметками 1, потом качаем отзывы с отметками 5\n",
    "for ct in tqdm(range(1,4)):\n",
    "    link = f'https://infodoctor.ru/reviews?mark=1&type=written&page={ct}'\n",
    "    response = session.get(link,\n",
    "                           headers=headers,\n",
    "                           proxies=proxies)\n",
    "    time.sleep(random.uniform(1.1, 5.2))\n",
    "    soup = BeautifulSoup(response.text, 'html.parser')\n",
    "    for review in soup.find_all(class_='review__text'):\n",
    "        bad_reviews.append(review.text.strip())\n",
    "time.sleep(random.uniform(3, 5.2))\n",
    "for ct in tqdm(range(1,4)):\n",
    "    link = f'https://infodoctor.ru/reviews?mark=5&type=written&page={ct}'\n",
    "    response = session.get(link,\n",
    "                           headers=headers,\n",
    "                           proxies=proxies)\n",
    "    time.sleep(random.uniform(1.1, 5.2))\n",
    "    soup = BeautifulSoup(response.text, 'html.parser')\n",
    "    for review in soup.find_all(class_='review__text'):\n",
    "        good_reviews.append(review.text.strip())"
   ]
  },
  {
   "cell_type": "markdown",
   "id": "a0331d97-11ed-4251-95df-416decc7e9e5",
   "metadata": {},
   "source": [
    "Пусть 0 -- плохой отзыв, а 1 -- хороший отзыв"
   ]
  },
  {
   "cell_type": "code",
   "execution_count": 266,
   "id": "849e8cdd-306a-434f-8bae-2f65a69ca1ff",
   "metadata": {},
   "outputs": [],
   "source": [
    "review_dict = {'review': [],\n",
    "              'rating': []}\n",
    "for review in good_reviews:\n",
    "    # на всякий случай, вдруг есть дубликаты\n",
    "    if review not in review_dict:\n",
    "        review_dict['review'].append(review)\n",
    "        review_dict['rating'].append(1)\n",
    "for review in bad_reviews:\n",
    "    # на всякий случай, вдруг есть дубликаты\n",
    "    if review not in review_dict:\n",
    "        review_dict['review'].append(review)\n",
    "        review_dict['rating'].append(0)"
   ]
  },
  {
   "cell_type": "code",
   "execution_count": 273,
   "id": "ca07a947-bc8a-4653-822d-bab0c44466f3",
   "metadata": {},
   "outputs": [
    {
     "data": {
      "text/html": [
       "<div>\n",
       "<style scoped>\n",
       "    .dataframe tbody tr th:only-of-type {\n",
       "        vertical-align: middle;\n",
       "    }\n",
       "\n",
       "    .dataframe tbody tr th {\n",
       "        vertical-align: top;\n",
       "    }\n",
       "\n",
       "    .dataframe thead th {\n",
       "        text-align: right;\n",
       "    }\n",
       "</style>\n",
       "<table border=\"1\" class=\"dataframe\">\n",
       "  <thead>\n",
       "    <tr style=\"text-align: right;\">\n",
       "      <th></th>\n",
       "      <th>review</th>\n",
       "      <th>rating</th>\n",
       "    </tr>\n",
       "  </thead>\n",
       "  <tbody>\n",
       "    <tr>\n",
       "      <th>0</th>\n",
       "      <td>Хочу поблагодарить доктора за качественную кон...</td>\n",
       "      <td>1</td>\n",
       "    </tr>\n",
       "    <tr>\n",
       "      <th>1</th>\n",
       "      <td>Я побывала в клинике Здравствуй на м. Беговой ...</td>\n",
       "      <td>1</td>\n",
       "    </tr>\n",
       "    <tr>\n",
       "      <th>2</th>\n",
       "      <td>Недавно мне пришлось обратиться за медицинской...</td>\n",
       "      <td>1</td>\n",
       "    </tr>\n",
       "    <tr>\n",
       "      <th>3</th>\n",
       "      <td>Проходила лечение в клинике на юго-западной и ...</td>\n",
       "      <td>1</td>\n",
       "    </tr>\n",
       "    <tr>\n",
       "      <th>4</th>\n",
       "      <td>Обращалась в пнд за помощью, попала к этому до...</td>\n",
       "      <td>1</td>\n",
       "    </tr>\n",
       "    <tr>\n",
       "      <th>...</th>\n",
       "      <td>...</td>\n",
       "      <td>...</td>\n",
       "    </tr>\n",
       "    <tr>\n",
       "      <th>85</th>\n",
       "      <td>Прийдя на прием к Елене, сразу отправила в дис...</td>\n",
       "      <td>0</td>\n",
       "    </tr>\n",
       "    <tr>\n",
       "      <th>86</th>\n",
       "      <td>Доктор считает допустимы в своём заключении дл...</td>\n",
       "      <td>0</td>\n",
       "    </tr>\n",
       "    <tr>\n",
       "      <th>87</th>\n",
       "      <td>Моему мужу Аксенов удалял грыжу на позвоночник...</td>\n",
       "      <td>0</td>\n",
       "    </tr>\n",
       "    <tr>\n",
       "      <th>88</th>\n",
       "      <td>Доктору не интересно вылечить пациента. Ему го...</td>\n",
       "      <td>0</td>\n",
       "    </tr>\n",
       "    <tr>\n",
       "      <th>89</th>\n",
       "      <td>Регистратор сказала сегодня днем, что у них ес...</td>\n",
       "      <td>0</td>\n",
       "    </tr>\n",
       "  </tbody>\n",
       "</table>\n",
       "<p>90 rows × 2 columns</p>\n",
       "</div>"
      ],
      "text/plain": [
       "                                               review  rating\n",
       "0   Хочу поблагодарить доктора за качественную кон...       1\n",
       "1   Я побывала в клинике Здравствуй на м. Беговой ...       1\n",
       "2   Недавно мне пришлось обратиться за медицинской...       1\n",
       "3   Проходила лечение в клинике на юго-западной и ...       1\n",
       "4   Обращалась в пнд за помощью, попала к этому до...       1\n",
       "..                                                ...     ...\n",
       "85  Прийдя на прием к Елене, сразу отправила в дис...       0\n",
       "86  Доктор считает допустимы в своём заключении дл...       0\n",
       "87  Моему мужу Аксенов удалял грыжу на позвоночник...       0\n",
       "88  Доктору не интересно вылечить пациента. Ему го...       0\n",
       "89  Регистратор сказала сегодня днем, что у них ес...       0\n",
       "\n",
       "[90 rows x 2 columns]"
      ]
     },
     "execution_count": 273,
     "metadata": {},
     "output_type": "execute_result"
    }
   ],
   "source": [
    "data = pd.DataFrame(review_dict)\n",
    "data"
   ]
  },
  {
   "cell_type": "code",
   "execution_count": 246,
   "id": "62b0608e-fd42-48d2-b94b-967a80898835",
   "metadata": {},
   "outputs": [],
   "source": [
    "# на всякий случай экспортируем полученные данные"
   ]
  },
  {
   "cell_type": "code",
   "execution_count": 269,
   "id": "04d252eb-e713-44fe-8152-02aa852b34fb",
   "metadata": {},
   "outputs": [],
   "source": [
    "data.to_csv('reviews.csv',index=False)"
   ]
  },
  {
   "cell_type": "code",
   "execution_count": 270,
   "id": "f07aa271-19a0-455e-9746-9cfe1286a9b1",
   "metadata": {},
   "outputs": [],
   "source": [
    "# перемешиваем"
   ]
  },
  {
   "cell_type": "code",
   "execution_count": 277,
   "id": "736cce51-f036-44b1-a332-8bc57dcd617c",
   "metadata": {},
   "outputs": [],
   "source": [
    "data = data.sample(frac=1)"
   ]
  },
  {
   "cell_type": "markdown",
   "id": "5d428386-c750-4500-af3a-d67306e7d71a",
   "metadata": {},
   "source": [
    "# Токенизируйте слова, приведите их к нижнему регистру и к начальной форме"
   ]
  },
  {
   "cell_type": "code",
   "execution_count": 282,
   "id": "19a743d3-32c8-4985-9f2e-91e753863695",
   "metadata": {},
   "outputs": [],
   "source": [
    "morph = pymorphy2.MorphAnalyzer()"
   ]
  },
  {
   "cell_type": "code",
   "execution_count": 640,
   "id": "d5cc58c5-adda-4cf0-b6b7-bf88a4d33e99",
   "metadata": {},
   "outputs": [
    {
     "data": {
      "text/plain": [
       "('Якубсон Виктор Михайлович очень талантливый врач. На приеме 20.09 было очень комфортно. Человек с юмором. Видео, что врач опытный.У меня боль в пояснице, пришла с этой проблемой. Буду делать стельки, пройду реабилитацию по лечебной физкультуре, сделаю узи. Буду лечиться у Виктора Михайловича, потому что вызывает доверие.',\n",
       " 'якубсон очень талантливый врач приём очень комфортно человек юмор видео врач опытный боль поясница прийти проблема делать стелька пройда реабилитация лечебный физкультура сделать узи лечиться вызывать доверие')"
      ]
     },
     "execution_count": 640,
     "metadata": {},
     "output_type": "execute_result"
    }
   ],
   "source": [
    "def make_clear_text(text):\n",
    "    text = text.lower()\n",
    "    text = re.sub(r\"\\.(?=[^ ])\", \". \", text, 0, re.MULTILINE)\n",
    "    text = re.sub(r\"\\d\", \"\", text, 0, re.MULTILINE)\n",
    "    new_text = []\n",
    "    for word in word_tokenize(text):\n",
    "        if word not in punctuation:\n",
    "            if len(word) > 1:\n",
    "                lemma = morph.parse(word)[0].normal_form\n",
    "                if lemma not in stopwords.words('russian'):\n",
    "                    # не будем включать имена\n",
    "                    if 'Name' not in morph.parse(word)[0].tag:\n",
    "                        if 'Patr' not in morph.parse(word)[0].tag:\n",
    "                            if 'Surn' not in morph.parse(word)[0].tag:\n",
    "                                if len(word) > 2:\n",
    "                                    new_text.append(lemma)\n",
    "    new_text = ' '.join(new_text)\n",
    "    return new_text\n",
    "# пример\n",
    "data.iloc[2].review, make_clear_text(data.iloc[2].review)"
   ]
  },
  {
   "cell_type": "code",
   "execution_count": 641,
   "id": "3ec3d90a-6ecc-43d4-ab97-59afac65fead",
   "metadata": {},
   "outputs": [],
   "source": [
    "data['clean'] = data.review.apply(make_clear_text)"
   ]
  },
  {
   "cell_type": "markdown",
   "id": "e0c20c72-66dd-4542-9491-de872308b968",
   "metadata": {},
   "source": [
    "# Составьте 2 множества - в одном будут слова, которые встречаются только в положительных отзывах, а в другом - встречающиеся только в отрицательных"
   ]
  },
  {
   "cell_type": "markdown",
   "id": "73d6e77d-3d5d-4eb8-b135-d9c4e8684799",
   "metadata": {},
   "source": [
    "Разделила на обучающие и тестируемые данные"
   ]
  },
  {
   "cell_type": "code",
   "execution_count": 642,
   "id": "982ab20b-7989-4488-94f8-a00ece4ccf7c",
   "metadata": {},
   "outputs": [],
   "source": [
    "data_train = pd.concat([data[data.rating == 1].sample(frac=0.85), data[data.rating == 0].sample(frac=0.85)])"
   ]
  },
  {
   "cell_type": "code",
   "execution_count": 624,
   "id": "dad2b84d-7e11-46af-b65a-01281e0c5521",
   "metadata": {},
   "outputs": [
    {
     "data": {
      "text/plain": [
       "(38, 38)"
      ]
     },
     "execution_count": 624,
     "metadata": {},
     "output_type": "execute_result"
    }
   ],
   "source": [
    "# смотрим, что соотношение равное\n",
    "data_train[data_train.rating == 1].__len__(), data_train[data_train.rating == 0].__len__()"
   ]
  },
  {
   "cell_type": "code",
   "execution_count": 643,
   "id": "c7b9c60a-d826-4d18-bf1a-f5b8e753756a",
   "metadata": {},
   "outputs": [],
   "source": [
    "data_test = data[~data.review.isin(data_train.review.to_list())]"
   ]
  },
  {
   "cell_type": "code",
   "execution_count": 626,
   "id": "328d0c0d-3fba-4ee8-9adc-5e8d85f62c4a",
   "metadata": {},
   "outputs": [
    {
     "data": {
      "text/plain": [
       "(7, 7)"
      ]
     },
     "execution_count": 626,
     "metadata": {},
     "output_type": "execute_result"
    }
   ],
   "source": [
    "# смотрим, что соотношение равное\n",
    "data_test[data_test.rating == 1].__len__(), data_test[data_test.rating == 0].__len__()"
   ]
  },
  {
   "cell_type": "code",
   "execution_count": 644,
   "id": "96a2db14-69b7-42ea-a70b-aaa09b4e9c34",
   "metadata": {
    "tags": []
   },
   "outputs": [],
   "source": [
    "all_good_text = ' '.join(data_train[data_train.rating == 1].clean.to_list()).split()\n",
    "all_bad_text = ' '.join(data_train[data_train.rating == 0].clean.to_list()).split()"
   ]
  },
  {
   "cell_type": "code",
   "execution_count": 645,
   "id": "3d2591c0-c49a-44c4-bf9b-911d4e793f6e",
   "metadata": {
    "tags": []
   },
   "outputs": [],
   "source": [
    "good_words = []\n",
    "bad_words = []\n",
    "for word in all_good_text+all_bad_text:\n",
    "    if word in all_good_text:\n",
    "        if word not in all_bad_text:\n",
    "            good_words.append(word)\n",
    "    elif word in all_bad_text:\n",
    "        if word not in all_good_text:\n",
    "            bad_words.append(word)"
   ]
  },
  {
   "cell_type": "code",
   "execution_count": 646,
   "id": "f1f2134d-ec72-4fc8-85f0-a64a0ebe59e5",
   "metadata": {},
   "outputs": [],
   "source": [
    "counter_good = Counter(good_words)\n",
    "counter_bad = Counter(bad_words)\n",
    "good_words_final = []\n",
    "bad_words_final = []\n",
    "for word in counter_good:\n",
    "    if counter_good[word] > 2:\n",
    "        good_words_final.append(word)\n",
    "for word in counter_bad:\n",
    "    if counter_bad[word] > 2:\n",
    "        bad_words_final.append(word)"
   ]
  },
  {
   "cell_type": "markdown",
   "id": "8b8eddef-b006-44a4-ad7c-d36b93a77fd7",
   "metadata": {},
   "source": [
    "# Создайте функцию, которая будет определять, положительный ли отзыв или отрицательный в зависимости от того, какие слова встретились в нём, и посчитайте качество при помощи accuracy"
   ]
  },
  {
   "cell_type": "code",
   "execution_count": 647,
   "id": "4f5c0764-ffe1-4ad3-a3ec-27c6a980399c",
   "metadata": {},
   "outputs": [
    {
     "name": "stdout",
     "output_type": "stream",
     "text": [
      "predicted: 1\n",
      "real rating: 1\n"
     ]
    }
   ],
   "source": [
    "def choose_polarity(text):\n",
    "    dict_good = {}\n",
    "    dict_bad = {}\n",
    "    for word in text.split():\n",
    "        if word in good_words_final:\n",
    "            if word not in dict_good:\n",
    "                dict_good[word] = 1\n",
    "            else:\n",
    "                dict_good[word] += 1\n",
    "        if word in bad_words_final:\n",
    "            if word not in dict_bad:\n",
    "                dict_bad[word] = 1\n",
    "            else:\n",
    "                dict_bad[word] += 1\n",
    "    if sum(dict_good.values()) >= sum(dict_bad.values()):\n",
    "        # хороший отзыв\n",
    "        polarity = 1\n",
    "    else:\n",
    "        # плохой отзыв\n",
    "        polarity = 0\n",
    "    return polarity\n",
    "print(f'predicted: {choose_polarity(data_test.clean.iloc[1])}')\n",
    "print(f'real rating: {data_test.rating.iloc[1]}')"
   ]
  },
  {
   "cell_type": "code",
   "execution_count": 648,
   "id": "fdea9df2-56be-43e9-967b-048c5a52fc65",
   "metadata": {},
   "outputs": [
    {
     "name": "stderr",
     "output_type": "stream",
     "text": [
      "C:\\Users\\Ann\\AppData\\Local\\Temp\\ipykernel_7900\\1469754905.py:1: SettingWithCopyWarning: \n",
      "A value is trying to be set on a copy of a slice from a DataFrame.\n",
      "Try using .loc[row_indexer,col_indexer] = value instead\n",
      "\n",
      "See the caveats in the documentation: https://pandas.pydata.org/pandas-docs/stable/user_guide/indexing.html#returning-a-view-versus-a-copy\n",
      "  data_test['predicted'] = data_test.clean.apply(choose_polarity)\n"
     ]
    }
   ],
   "source": [
    "data_test['predicted'] = data_test.clean.apply(choose_polarity)"
   ]
  },
  {
   "cell_type": "code",
   "execution_count": 649,
   "id": "276defb4-a0be-4176-a38c-781aa16091ea",
   "metadata": {},
   "outputs": [
    {
     "data": {
      "text/plain": [
       "0.8571428571428571"
      ]
     },
     "execution_count": 649,
     "metadata": {},
     "output_type": "execute_result"
    }
   ],
   "source": [
    "accuracy_score(data_test.rating,data_test['predicted'])"
   ]
  },
  {
   "cell_type": "code",
   "execution_count": 650,
   "id": "e68b4365-56bb-4f5d-bc32-9b32e2038e12",
   "metadata": {},
   "outputs": [
    {
     "data": {
      "text/plain": [
       "<sklearn.metrics._plot.confusion_matrix.ConfusionMatrixDisplay at 0x208e97d7010>"
      ]
     },
     "execution_count": 650,
     "metadata": {},
     "output_type": "execute_result"
    },
    {
     "data": {
      "image/png": "[encoded data removed]",
      "text/plain": [
       "<Figure size 640x480 with 2 Axes>"
      ]
     },
     "metadata": {},
     "output_type": "display_data"
    }
   ],
   "source": [
    "ConfusionMatrixDisplay(confusion_matrix(data_test.rating,data_test['predicted'])).plot()"
   ]
  },
  {
   "cell_type": "markdown",
   "id": "8d3bd079-5d26-4864-a935-8d47a3ee0ddb",
   "metadata": {},
   "source": [
    "# Предложите как минимум 2 способа улучшить этот алгоритм определения тональности отзыва (1 балл за описание и реализацию каждого способа; если 2 способа описаны только текстом, это 1 балл. За третий и последующие способы дополнительных баллов не будет)"
   ]
  },
  {
   "cell_type": "markdown",
   "id": "08486908-022f-4564-9821-cc4e75520500",
   "metadata": {},
   "source": [
    "Я приведу больше 2 способов, так как не уверена, что некоторые способы будут засчитаны, ведь они неудачны"
   ]
  },
  {
   "cell_type": "markdown",
   "id": "c40a71a3-804d-471a-8294-e866f6ebed16",
   "metadata": {},
   "source": [
    "## Способ 1"
   ]
  },
  {
   "cell_type": "markdown",
   "id": "1bd51018-85e0-4d00-a104-4e7a1a338908",
   "metadata": {},
   "source": [
    "Смотрим не просто на то, есть ли слово из списка \"хороших\" или \"плохих\", а посложнее.\n",
    "\n",
    "Смотрим на Х% самых частотных слов в тексте. Далее считаем, больше ли в них \"хороших\" слов или \"плохих\". Кого больше, такая и будет тональность. Посмотрим на разные Х, чтобы понять, какой из них лучше"
   ]
  },
  {
   "cell_type": "code",
   "execution_count": 653,
   "id": "f078a6cc-18d2-45ba-b9f7-954ba7a9b9d9",
   "metadata": {},
   "outputs": [
    {
     "name": "stdout",
     "output_type": "stream",
     "text": [
      "predicted: 1\n",
      "real rating: 1\n"
     ]
    }
   ],
   "source": [
    "def choose_polarity_1(text, percent):\n",
    "    good = 0\n",
    "    bad = 0\n",
    "    count = Counter(text.split()).most_common(round(percent*len(text.split())))\n",
    "    for most_common in count:\n",
    "        if most_common[0] in good_words_final:\n",
    "            good += 1\n",
    "        if most_common[0] in bad_words_final:\n",
    "            bad += 1\n",
    "    if good >= bad:\n",
    "        return 1\n",
    "    else:\n",
    "        return 0\n",
    "print(f'predicted: {choose_polarity_1(data_test.clean.iloc[0], 0.25)}')\n",
    "print(f'real rating: {data_test.rating.iloc[0]}')"
   ]
  },
  {
   "cell_type": "code",
   "execution_count": 652,
   "id": "917de85e-457a-4392-881c-bd29bfbdd6f6",
   "metadata": {
    "tags": []
   },
   "outputs": [
    {
     "data": {
      "text/plain": [
       "<AxesSubplot: xlabel='percent'>"
      ]
     },
     "execution_count": 652,
     "metadata": {},
     "output_type": "execute_result"
    },
    {
     "data": {
      "image/png": "[encoded data removed]",
      "text/plain": [
       "<Figure size 640x480 with 1 Axes>"
      ]
     },
     "metadata": {},
     "output_type": "display_data"
    }
   ],
   "source": [
    "X = [0.05, 0.10, 0.20, 0.25, 0.30, 0.40, 0.50, 0.6, 0.7, 0.8, 1]\n",
    "Y = []\n",
    "for percent in X:\n",
    "    predicted = data_test.clean.apply(choose_polarity_1, percent=percent)\n",
    "    Y.append(accuracy_score(data_test.rating, predicted))\n",
    "pd.DataFrame({'percent': X,\n",
    "             'accuracy': Y}).plot(x='percent', y='accuracy')"
   ]
  },
  {
   "cell_type": "markdown",
   "id": "d83f824f-70ae-45e0-bc29-fc2edb43cc89",
   "metadata": {},
   "source": [
    "Итак, видно, что больше 0.85 мы не уйдем. Именно такой же результат нам показывал прошлый вариант анализа"
   ]
  },
  {
   "cell_type": "markdown",
   "id": "1802afe0-18b8-4ef9-a4dd-61e1bb469333",
   "metadata": {},
   "source": [
    "## Способ 2"
   ]
  },
  {
   "cell_type": "markdown",
   "id": "5f405387-3288-44f8-a5c0-357ef5ffe550",
   "metadata": {},
   "source": [
    "Оценку часто выражают прилагательные и наречия. Составим словарь с частотностями уникальных для тональности прил&наречий. Далее будем считать число входящих в текст уникальных для тональности слов так, что чем частотнее слово было в словаре уникальных слов, тем больше значения она будет иметь. То есть будем суммировать не просто:\n",
    "\n",
    "если \"хорошее\" слово в тексте => +1 к сумме \"хороших\" слов\n",
    "\n",
    "а\n",
    "\n",
    "если \"хорошее\" слово в тексте => +(частотность слова в словаре/сумма частотностей слов в словаре) к сумме \"хороших\" слов"
   ]
  },
  {
   "cell_type": "code",
   "execution_count": 678,
   "id": "80370620-636a-4fa9-8697-5bd28edebecb",
   "metadata": {},
   "outputs": [],
   "source": [
    "good_adj = []\n",
    "bad_adj = []\n",
    "for word in good_words:\n",
    "    if morph.parse(word)[0].tag.POS in ['ADVB','ADJF']:\n",
    "        good_adj.append(word)\n",
    "for word in bad_words:\n",
    "    if morph.parse(word)[0].tag.POS in ['ADVB','ADJF']:\n",
    "        bad_adj.append(word)\n",
    "        \n",
    "good_adj_final = {}\n",
    "bad_adj_final = {}\n",
    "for word in Counter(good_adj):\n",
    "    if Counter(good_adj)[word] > 2:\n",
    "        good_adj_final[word] = Counter(good_adj)[word]\n",
    "for word in Counter(bad_adj):\n",
    "    if Counter(bad_adj)[word] > 2:\n",
    "        bad_adj_final[word] = Counter(bad_adj)[word]"
   ]
  },
  {
   "cell_type": "code",
   "execution_count": 684,
   "id": "29cf7cd5-4690-4a8c-b06e-254caeaee873",
   "metadata": {},
   "outputs": [
    {
     "name": "stdout",
     "output_type": "stream",
     "text": [
      "predicted: 1\n",
      "real rating: 1\n"
     ]
    }
   ],
   "source": [
    "def choose_polarity_2(text):\n",
    "    good = 0\n",
    "    bad = 0\n",
    "    for word in text.split():\n",
    "        if word in good_adj_final:\n",
    "            good += good_adj_final[word]/sum(good_adj_final.values())\n",
    "        if word in bad_adj_final:\n",
    "            bad += bad_adj_final[word]/sum(bad_adj_final.values())\n",
    "    if good >= bad:\n",
    "        return 1\n",
    "    else:\n",
    "        return 0\n",
    "print(f'predicted: {choose_polarity_2(data_test.clean.iloc[0])}')\n",
    "print(f'real rating: {data_test.rating.iloc[0]}')"
   ]
  },
  {
   "cell_type": "code",
   "execution_count": 686,
   "id": "94be758d-5531-4be6-bb01-8c6ffa18c609",
   "metadata": {},
   "outputs": [
    {
     "data": {
      "text/plain": [
       "0.5714285714285714"
      ]
     },
     "execution_count": 686,
     "metadata": {},
     "output_type": "execute_result"
    }
   ],
   "source": [
    "predicted = data_test.clean.apply(choose_polarity_2)\n",
    "accuracy_score(data_test.rating, predicted)"
   ]
  },
  {
   "cell_type": "markdown",
   "id": "a4d74d11-e328-4ef7-9e89-d78bde53cd69",
   "metadata": {},
   "source": [
    "Способ неудачный, точность понизилась"
   ]
  },
  {
   "cell_type": "markdown",
   "id": "aded5ea8-043e-402b-be9d-c2e920f5fc22",
   "metadata": {},
   "source": [
    "## Способ 3: просто добавь ~~воды~~ данных"
   ]
  },
  {
   "cell_type": "markdown",
   "id": "842469d0-61aa-4798-85f6-b695e6b041fd",
   "metadata": {},
   "source": [
    "Оригинальный алгоритм очень неустойчиво работает на небольшом массиве данных: это можно заметить, даже когда меняешь тестовую/обучающую выборки данных. Поэтому чтобы улучшить качество этого алгоритма, нужно собрать больше текста. Далее проделаем те же действия, что раньше"
   ]
  },
  {
   "cell_type": "code",
   "execution_count": 687,
   "id": "b185fc64-e707-4d99-9860-2f4254c93f42",
   "metadata": {},
   "outputs": [],
   "source": [
    "session = requests.session()\n",
    "adapter = requests.adapters.HTTPAdapter(\n",
    "    pool_connections=10, # Количество пулов соединений\n",
    "    pool_maxsize=10 # Размер каждого пула\n",
    ")\n",
    "session.mount('https://', adapter)\n",
    "ua = UserAgent(verify_ssl=False)\n",
    "headers = {'User-Agent': ua.random}\n",
    "proxy = ['80.179.140.189',\n",
    "        '102.132.48.60',\n",
    "        '172.67.128.116']\n",
    "proxies = {'http': f'http://{proxy[random.randrange(0,3)]}'}"
   ]
  },
  {
   "cell_type": "code",
   "execution_count": 688,
   "id": "de61a019-9262-4f01-b20b-0973c8d5b599",
   "metadata": {},
   "outputs": [
    {
     "name": "stderr",
     "output_type": "stream",
     "text": [
      "100%|████████████████████████████████████████████████████████████████████████████████████████████████████████████████████████████████████████████████████| 4/4 [00:26<00:00,  6.56s/it]\n",
      "100%|████████████████████████████████████████████████████████████████████████████████████████████████████████████████████████████████████████████████████| 4/4 [00:18<00:00,  4.55s/it]\n"
     ]
    }
   ],
   "source": [
    "other_good_reviews = []\n",
    "other_bad_reviews = []\n",
    "# сначала качаем отзывы со страницы с отметками 1, потом качаем отзывы с отметками 5\n",
    "for ct in tqdm(range(4,8)):\n",
    "    link = f'https://infodoctor.ru/reviews?mark=1&type=written&page={ct}'\n",
    "    response = session.get(link,\n",
    "                           headers=headers,\n",
    "                           proxies=proxies)\n",
    "    time.sleep(random.uniform(1.1, 5.2))\n",
    "    soup = BeautifulSoup(response.text, 'html.parser')\n",
    "    for review in soup.find_all(class_='review__text'):\n",
    "        other_bad_reviews.append(review.text.strip())\n",
    "time.sleep(random.uniform(3, 5.2))\n",
    "for ct in tqdm(range(4,8)):\n",
    "    link = f'https://infodoctor.ru/reviews?mark=5&type=written&page={ct}'\n",
    "    response = session.get(link,\n",
    "                           headers=headers,\n",
    "                           proxies=proxies)\n",
    "    time.sleep(random.uniform(1.1, 5.2))\n",
    "    soup = BeautifulSoup(response.text, 'html.parser')\n",
    "    for review in soup.find_all(class_='review__text'):\n",
    "        other_good_reviews.append(review.text.strip())"
   ]
  },
  {
   "cell_type": "code",
   "execution_count": 700,
   "id": "c5507534-d158-4536-9da9-fb3d160c68b0",
   "metadata": {},
   "outputs": [],
   "source": [
    "review_dict = {'review': [],\n",
    "              'rating': []}\n",
    "for review in other_good_reviews:\n",
    "    # на всякий случай, вдруг есть дубликаты\n",
    "    if review not in review_dict:\n",
    "        review_dict['review'].append(review)\n",
    "        review_dict['rating'].append(1)\n",
    "for review in other_bad_reviews:\n",
    "    # на всякий случай, вдруг есть дубликаты\n",
    "    if review not in review_dict:\n",
    "        review_dict['review'].append(review)\n",
    "        review_dict['rating'].append(0)\n",
    "        \n",
    "bigger_data = pd.DataFrame(review_dict)\n",
    "bigger_data = pd.concat([bigger_data,data])\n",
    "bigger_data.sample(frac=1)\n",
    "\n",
    "bigger_data['clean'] = bigger_data.review.apply(make_clear_text)"
   ]
  },
  {
   "cell_type": "code",
   "execution_count": 706,
   "id": "56730eed-d34f-483f-8f62-66a4399fe007",
   "metadata": {},
   "outputs": [
    {
     "name": "stderr",
     "output_type": "stream",
     "text": [
      "C:\\Users\\Ann\\AppData\\Local\\Temp\\ipykernel_7900\\770301275.py:26: SettingWithCopyWarning: \n",
      "A value is trying to be set on a copy of a slice from a DataFrame.\n",
      "Try using .loc[row_indexer,col_indexer] = value instead\n",
      "\n",
      "See the caveats in the documentation: https://pandas.pydata.org/pandas-docs/stable/user_guide/indexing.html#returning-a-view-versus-a-copy\n",
      "  data_test['predicted'] = data_test.clean.apply(choose_polarity)\n"
     ]
    },
    {
     "data": {
      "text/plain": [
       "0.875"
      ]
     },
     "execution_count": 706,
     "metadata": {},
     "output_type": "execute_result"
    }
   ],
   "source": [
    "data_train = pd.concat([bigger_data[bigger_data.rating == 1].sample(frac=0.85), bigger_data[bigger_data.rating == 0].sample(frac=0.85)])\n",
    "data_test = bigger_data[~bigger_data.review.isin(data_train.review.to_list())]\n",
    "all_good_text = ' '.join(data_train[data_train.rating == 1].clean.to_list()).split()\n",
    "all_bad_text = ' '.join(data_train[data_train.rating == 0].clean.to_list()).split()\n",
    "\n",
    "good_words = []\n",
    "bad_words = []\n",
    "for word in all_good_text+all_bad_text:\n",
    "    if word in all_good_text:\n",
    "        if word not in all_bad_text:\n",
    "            good_words.append(word)\n",
    "    elif word in all_bad_text:\n",
    "        if word not in all_good_text:\n",
    "            bad_words.append(word)\n",
    "counter_good = Counter(good_words)\n",
    "counter_bad = Counter(bad_words)\n",
    "good_words_final = []\n",
    "bad_words_final = []\n",
    "for word in counter_good:\n",
    "    if counter_good[word] > 2:\n",
    "        good_words_final.append(word)\n",
    "for word in counter_bad:\n",
    "    if counter_bad[word] > 2:\n",
    "        bad_words_final.append(word)\n",
    "        \n",
    "# использовали самый первый, неулучшенный алгоритм \n",
    "data_test['predicted'] = data_test.clean.apply(choose_polarity)\n",
    "accuracy_score(data_test.rating,data_test['predicted'])"
   ]
  },
  {
   "cell_type": "markdown",
   "id": "fa5e73e6-5ca9-4392-bb31-e696fd9020e1",
   "metadata": {},
   "source": [
    "Качество чуть-чуть увеличилось! Попробуем способ 2 применить к этому большому массиву данных"
   ]
  },
  {
   "cell_type": "code",
   "execution_count": 707,
   "id": "29632a09-f1d4-47bc-8f45-78382039af59",
   "metadata": {},
   "outputs": [
    {
     "data": {
      "text/plain": [
       "0.6875"
      ]
     },
     "execution_count": 707,
     "metadata": {},
     "output_type": "execute_result"
    }
   ],
   "source": [
    "good_adj = []\n",
    "bad_adj = []\n",
    "for word in good_words:\n",
    "    if morph.parse(word)[0].tag.POS in ['ADVB','ADJF']:\n",
    "        good_adj.append(word)\n",
    "for word in bad_words:\n",
    "    if morph.parse(word)[0].tag.POS in ['ADVB','ADJF']:\n",
    "        bad_adj.append(word)\n",
    "        \n",
    "good_adj_final = {}\n",
    "bad_adj_final = {}\n",
    "for word in Counter(good_adj):\n",
    "    if Counter(good_adj)[word] > 2:\n",
    "        good_adj_final[word] = Counter(good_adj)[word]\n",
    "for word in Counter(bad_adj):\n",
    "    if Counter(bad_adj)[word] > 2:\n",
    "        bad_adj_final[word] = Counter(bad_adj)[word]\n",
    "predicted = data_test.clean.apply(choose_polarity_2)\n",
    "accuracy_score(data_test.rating, predicted)"
   ]
  },
  {
   "cell_type": "markdown",
   "id": "e42fd3e0-de7b-42b7-937c-5087b7f53158",
   "metadata": {},
   "source": [
    "По сравнению с прошлым разом качество стало лучше: было 0.57"
   ]
  },
  {
   "cell_type": "markdown",
   "id": "67610803-539a-48d0-8784-2671b959fa58",
   "metadata": {},
   "source": [
    "## Способ 4: Word2Vec"
   ]
  },
  {
   "cell_type": "markdown",
   "id": "04e0be14-2776-4c6f-b17c-c00d8eab11db",
   "metadata": {},
   "source": [
    "Сейчас, когда у нас побольше данных, можно попробовать обучить на них модель word2vec. Сравним, как она работала бы и при 90 загруженных отзывах, и при 210"
   ]
  },
  {
   "cell_type": "code",
   "execution_count": 720,
   "id": "35049593-4c99-4692-b0e2-0f4d1a46db9e",
   "metadata": {},
   "outputs": [],
   "source": [
    "def make_text_Word2Vec(list_):\n",
    "    new_list = []\n",
    "    words = []\n",
    "    for review in list_:\n",
    "        for sentence in sent_tokenize(review):\n",
    "            for word in make_clear_text(sentence).split():\n",
    "                if word not in stopwords.words('russian'):\n",
    "                    words.append(word)\n",
    "            new_list.append(words)\n",
    "            words = []\n",
    "    return new_list"
   ]
  },
  {
   "cell_type": "code",
   "execution_count": 721,
   "id": "89ad1c09-d862-4bfe-9694-d1d3bb0012e0",
   "metadata": {},
   "outputs": [],
   "source": [
    "model_little = Word2Vec(make_text_Word2Vec(data.review.to_list()), vector_size=100, window=5, workers=4)"
   ]
  },
  {
   "cell_type": "code",
   "execution_count": 723,
   "id": "72f719cb-0b52-4f7e-82e6-5c077cb3f0cc",
   "metadata": {},
   "outputs": [],
   "source": [
    "model_big = Word2Vec(make_text_Word2Vec(bigger_data.review.to_list()), vector_size=100, window=5, workers=4)"
   ]
  },
  {
   "cell_type": "code",
   "execution_count": 765,
   "id": "cfda9dcd-2f31-4c03-bfa9-942ade93ace6",
   "metadata": {},
   "outputs": [
    {
     "data": {
      "text/plain": [
       "'внимательный'"
      ]
     },
     "execution_count": 765,
     "metadata": {},
     "output_type": "execute_result"
    }
   ],
   "source": [
    "# слово для примера\n",
    "check_word = Counter(good_adj).most_common(1)\n",
    "check_word[0][0]"
   ]
  },
  {
   "cell_type": "code",
   "execution_count": 737,
   "id": "4b329ad9-3496-4d1f-b780-feff07fc495b",
   "metadata": {},
   "outputs": [
    {
     "data": {
      "text/plain": [
       "[('свой', 0.241989865899086),\n",
       " ('большой', 0.22373878955841064),\n",
       " ('место', 0.18961851298809052),\n",
       " ('ребёнок', 0.16938656568527222),\n",
       " ('очень', 0.162309929728508),\n",
       " ('услуга', 0.15512500703334808),\n",
       " ('ждать', 0.15496638417243958),\n",
       " ('наш', 0.14880353212356567),\n",
       " ('профессиональный', 0.1471921056509018),\n",
       " ('приём', 0.1470693200826645)]"
      ]
     },
     "execution_count": 737,
     "metadata": {},
     "output_type": "execute_result"
    }
   ],
   "source": [
    "model_little.wv.most_similar(check_word[0][0], topn=10)"
   ]
  },
  {
   "cell_type": "code",
   "execution_count": 738,
   "id": "7ce7f080-93c8-485f-b9fd-4d5670657d14",
   "metadata": {},
   "outputs": [
    {
     "data": {
      "text/plain": [
       "[('клиника', 0.7162750959396362),\n",
       " ('процедура', 0.7055168151855469),\n",
       " ('провести', 0.6991151571273804),\n",
       " ('анализ', 0.6987566947937012),\n",
       " ('это', 0.6956916451454163),\n",
       " ('свой', 0.6929165720939636),\n",
       " ('всё', 0.6922475099563599),\n",
       " ('работа', 0.6895725727081299),\n",
       " ('услуга', 0.6885058283805847),\n",
       " ('врач', 0.6874463558197021)]"
      ]
     },
     "execution_count": 738,
     "metadata": {},
     "output_type": "execute_result"
    }
   ],
   "source": [
    "model_big.wv.most_similar(check_word[0][0], topn=10)"
   ]
  },
  {
   "cell_type": "markdown",
   "id": "a6277567-edd5-4df5-97a8-8e1f53423c19",
   "metadata": {},
   "source": [
    "С точки зрения здравого смысла, обе модели работают как-то неправильно. Тем не менее, попробуем улучшить оригинальный алгоритм"
   ]
  },
  {
   "cell_type": "markdown",
   "id": "7ec5d592-7b51-4eea-8782-e10e687ad852",
   "metadata": {},
   "source": [
    "Выберем по 10 самых частотных слов в уникальных словарях тональностей. Будем каждое слово в тексте сравнивать косинусной близостью с 10 словами из хорошего словаря и из плохого словаря, далее будем в отдельных переменных складывать все значения косинусной близости. Чем больше близость, тем больше значение косинусной близости. Чья больше сумма в итоге, такая тональность"
   ]
  },
  {
   "cell_type": "code",
   "execution_count": 748,
   "id": "f0e898bb-a4c5-49c7-b762-a24cb241125c",
   "metadata": {},
   "outputs": [
    {
     "data": {
      "text/plain": [
       "array([[0.84227216]], dtype=float32)"
      ]
     },
     "execution_count": 748,
     "metadata": {},
     "output_type": "execute_result"
    }
   ],
   "source": [
    "# пример\n",
    "cosine_similarity([model_big.wv['работа']], [model_big.wv['врач']])"
   ]
  },
  {
   "cell_type": "code",
   "execution_count": 760,
   "id": "ef52ab5b-586a-4cfa-aca2-fada110b7db7",
   "metadata": {},
   "outputs": [
    {
     "name": "stdout",
     "output_type": "stream",
     "text": [
      "predicted: 0\n",
      "real rating: 1\n"
     ]
    }
   ],
   "source": [
    "def choose_polarity_3(text, model):\n",
    "    good = 0\n",
    "    bad = 0\n",
    "    for word in text.split():\n",
    "        if word in model.wv:\n",
    "            for good_word in Counter(good_adj).most_common(5):\n",
    "                good += cosine_similarity([model.wv[word]], [model.wv[good_word[0]]])[0][0]\n",
    "            for bad_word in Counter(bad_adj).most_common(5):\n",
    "                bad += cosine_similarity([model.wv[word]], [model.wv[bad_word[0]]])[0][0]\n",
    "    if good >= bad:\n",
    "        return 1\n",
    "    else:\n",
    "        return 0\n",
    "print(f'predicted: {choose_polarity_3(data_test.clean.iloc[1],model_big)}')\n",
    "print(f'real rating: {data_test.rating.iloc[1]}')"
   ]
  },
  {
   "cell_type": "code",
   "execution_count": 758,
   "id": "1271f5f2-5548-4601-9cb1-cb90bd97b084",
   "metadata": {},
   "outputs": [
    {
     "data": {
      "text/plain": [
       "0.5"
      ]
     },
     "execution_count": 758,
     "metadata": {},
     "output_type": "execute_result"
    }
   ],
   "source": [
    "predicted = data_test.clean.apply(choose_polarity_3, model=model_big)\n",
    "accuracy_score(data_test.rating, predicted)"
   ]
  },
  {
   "cell_type": "markdown",
   "id": "0412eb03-2a60-4aaf-9d5b-c3b3d48cdb8c",
   "metadata": {},
   "source": [
    "Как видно, даже использование обученной на более большом массиве данных модели word2vec недостаточно, чтобы добиться хорошей точности"
   ]
  },
  {
   "cell_type": "markdown",
   "id": "124d939c-f77c-4ff6-b431-3f672b763fe6",
   "metadata": {},
   "source": [
    "## Способ 5"
   ]
  },
  {
   "cell_type": "markdown",
   "id": "5e136c43-448a-4cc4-8662-955ba9cab1fd",
   "metadata": {},
   "source": [
    "Посмотрим, сложет ли модель word2vec улучшить словарь уникальных хороших и плохих слов. Возьмем 5 самых частотных слов в словаре. Для каждого слова добавляем в словарь 5 ближайших слов из модели"
   ]
  },
  {
   "cell_type": "code",
   "execution_count": 785,
   "id": "c952173c-97d5-4c4d-97cf-1fd9ad08f325",
   "metadata": {},
   "outputs": [],
   "source": [
    "new_good_words = []\n",
    "new_bad_words = []\n",
    "\n",
    "for word in Counter(good_adj).most_common(5):\n",
    "    if word[0] in model_big.wv:\n",
    "        for sim_word in model_big.wv.most_similar(word[0], topn=5):\n",
    "            if sim_word[1] >= 0.6:\n",
    "                new_good_words.append(sim_word[0])\n",
    "for word in Counter(bad_adj).most_common(5):\n",
    "    if word[0] in model_big.wv:\n",
    "        for sim_word in model_big.wv.most_similar(word[0], topn=5):\n",
    "            if sim_word[1] >= 0.6:\n",
    "                new_bad_words.append(sim_word[0])"
   ]
  },
  {
   "cell_type": "markdown",
   "id": "555c1cf7-0a8c-4468-9911-719dfd9c4aa0",
   "metadata": {},
   "source": [
    "Используем оригинальный алгоритм"
   ]
  },
  {
   "cell_type": "code",
   "execution_count": 787,
   "id": "abb561ce-34cc-4f9e-be56-7c4a73230bf0",
   "metadata": {},
   "outputs": [
    {
     "name": "stdout",
     "output_type": "stream",
     "text": [
      "predicted: 0\n",
      "real rating: 1\n"
     ]
    }
   ],
   "source": [
    "def choose_polarity_4(text):\n",
    "    dict_good = {}\n",
    "    dict_bad = {}\n",
    "    for word in text.split():\n",
    "        if word in new_good_words:\n",
    "            if word not in dict_good:\n",
    "                dict_good[word] = 1\n",
    "            else:\n",
    "                dict_good[word] += 1\n",
    "        if word in new_bad_words:\n",
    "            if word not in dict_bad:\n",
    "                dict_bad[word] = 1\n",
    "            else:\n",
    "                dict_bad[word] += 1\n",
    "    if sum(dict_good.values()) >= sum(dict_bad.values()):\n",
    "        # хороший отзыв\n",
    "        polarity = 1\n",
    "    else:\n",
    "        # плохой отзыв\n",
    "        polarity = 0\n",
    "    return polarity\n",
    "print(f'predicted: {choose_polarity_4(data_test.clean.iloc[1])}')\n",
    "print(f'real rating: {data_test.rating.iloc[1]}')"
   ]
  },
  {
   "cell_type": "code",
   "execution_count": 789,
   "id": "7fee1df5-d9d3-41ae-897b-f2385a2e24fc",
   "metadata": {},
   "outputs": [
    {
     "data": {
      "text/plain": [
       "0.4375"
      ]
     },
     "execution_count": 789,
     "metadata": {},
     "output_type": "execute_result"
    }
   ],
   "source": [
    "predicted = data_test.clean.apply(choose_polarity_4)\n",
    "accuracy_score(data_test.rating, predicted)"
   ]
  },
  {
   "cell_type": "markdown",
   "id": "98bec53d-2057-42e4-900b-83c5bc71fa90",
   "metadata": {},
   "source": [
    "К сожалению, увеличить словарь хороших/плохих слов получилось неудачно"
   ]
  },
  {
   "cell_type": "code",
   "execution_count": null,
   "id": "58b5f78f-4cca-461f-b8ca-3fab96f95e8a",
   "metadata": {},
   "outputs": [],
   "source": []
  }
 ],
 "metadata": {
  "kernelspec": {
   "display_name": "Python 3 (ipykernel)",
   "language": "python",
   "name": "python3"
  },
  "language_info": {
   "codemirror_mode": {
    "name": "ipython",
    "version": 3
   },
   "file_extension": ".py",
   "mimetype": "text/x-python",
   "name": "python",
   "nbconvert_exporter": "python",
   "pygments_lexer": "ipython3",
   "version": "3.10.4"
  }
 },
 "nbformat": 4,
 "nbformat_minor": 5
}
